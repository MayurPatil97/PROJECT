{
 "cells": [
  {
   "cell_type": "code",
   "execution_count": 1,
   "metadata": {},
   "outputs": [],
   "source": [
    "import numpy as np\n",
    "import pandas as pd\n",
    "import matplotlib.pyplot as plt\n",
    "import seaborn as sns\n",
    "\n",
    "import warnings \n",
    "warnings.filterwarnings(\"ignore\")"
   ]
  },
  {
   "cell_type": "code",
   "execution_count": 2,
   "metadata": {},
   "outputs": [],
   "source": [
    "df = pd.read_csv(\"/PYTHON/data.csv\")"
   ]
  },
  {
   "cell_type": "code",
   "execution_count": 3,
   "metadata": {},
   "outputs": [
    {
     "data": {
      "text/plain": [
       "(50553, 12)"
      ]
     },
     "execution_count": 3,
     "metadata": {},
     "output_type": "execute_result"
    }
   ],
   "source": [
    "df.shape"
   ]
  },
  {
   "cell_type": "code",
   "execution_count": 4,
   "metadata": {},
   "outputs": [
    {
     "data": {
      "text/html": [
       "<div>\n",
       "<style scoped>\n",
       "    .dataframe tbody tr th:only-of-type {\n",
       "        vertical-align: middle;\n",
       "    }\n",
       "\n",
       "    .dataframe tbody tr th {\n",
       "        vertical-align: top;\n",
       "    }\n",
       "\n",
       "    .dataframe thead th {\n",
       "        text-align: right;\n",
       "    }\n",
       "</style>\n",
       "<table border=\"1\" class=\"dataframe\">\n",
       "  <thead>\n",
       "    <tr style=\"text-align: right;\">\n",
       "      <th></th>\n",
       "      <th>ID</th>\n",
       "      <th>Agency</th>\n",
       "      <th>Agency Type</th>\n",
       "      <th>Distribution Channel</th>\n",
       "      <th>Product Name</th>\n",
       "      <th>Claim</th>\n",
       "      <th>Duration</th>\n",
       "      <th>Destination</th>\n",
       "      <th>Net Sales</th>\n",
       "      <th>Commision (in value)</th>\n",
       "      <th>Gender</th>\n",
       "      <th>Age</th>\n",
       "    </tr>\n",
       "  </thead>\n",
       "  <tbody>\n",
       "    <tr>\n",
       "      <th>0</th>\n",
       "      <td>3433</td>\n",
       "      <td>CWT</td>\n",
       "      <td>Travel Agency</td>\n",
       "      <td>Online</td>\n",
       "      <td>Rental Vehicle Excess Insurance</td>\n",
       "      <td>0</td>\n",
       "      <td>7</td>\n",
       "      <td>MALAYSIA</td>\n",
       "      <td>0.0</td>\n",
       "      <td>17.82</td>\n",
       "      <td>NaN</td>\n",
       "      <td>31</td>\n",
       "    </tr>\n",
       "    <tr>\n",
       "      <th>1</th>\n",
       "      <td>4339</td>\n",
       "      <td>EPX</td>\n",
       "      <td>Travel Agency</td>\n",
       "      <td>Online</td>\n",
       "      <td>Cancellation Plan</td>\n",
       "      <td>0</td>\n",
       "      <td>85</td>\n",
       "      <td>SINGAPORE</td>\n",
       "      <td>69.0</td>\n",
       "      <td>0.00</td>\n",
       "      <td>NaN</td>\n",
       "      <td>36</td>\n",
       "    </tr>\n",
       "    <tr>\n",
       "      <th>2</th>\n",
       "      <td>34590</td>\n",
       "      <td>CWT</td>\n",
       "      <td>Travel Agency</td>\n",
       "      <td>Online</td>\n",
       "      <td>Rental Vehicle Excess Insurance</td>\n",
       "      <td>0</td>\n",
       "      <td>11</td>\n",
       "      <td>MALAYSIA</td>\n",
       "      <td>19.8</td>\n",
       "      <td>11.88</td>\n",
       "      <td>NaN</td>\n",
       "      <td>75</td>\n",
       "    </tr>\n",
       "    <tr>\n",
       "      <th>3</th>\n",
       "      <td>55816</td>\n",
       "      <td>EPX</td>\n",
       "      <td>Travel Agency</td>\n",
       "      <td>Online</td>\n",
       "      <td>2 way Comprehensive Plan</td>\n",
       "      <td>0</td>\n",
       "      <td>16</td>\n",
       "      <td>INDONESIA</td>\n",
       "      <td>20.0</td>\n",
       "      <td>0.00</td>\n",
       "      <td>NaN</td>\n",
       "      <td>32</td>\n",
       "    </tr>\n",
       "    <tr>\n",
       "      <th>4</th>\n",
       "      <td>13816</td>\n",
       "      <td>EPX</td>\n",
       "      <td>Travel Agency</td>\n",
       "      <td>Online</td>\n",
       "      <td>Cancellation Plan</td>\n",
       "      <td>0</td>\n",
       "      <td>10</td>\n",
       "      <td>KOREA, REPUBLIC OF</td>\n",
       "      <td>15.0</td>\n",
       "      <td>0.00</td>\n",
       "      <td>NaN</td>\n",
       "      <td>29</td>\n",
       "    </tr>\n",
       "  </tbody>\n",
       "</table>\n",
       "</div>"
      ],
      "text/plain": [
       "      ID Agency    Agency Type Distribution Channel  \\\n",
       "0   3433    CWT  Travel Agency               Online   \n",
       "1   4339    EPX  Travel Agency               Online   \n",
       "2  34590    CWT  Travel Agency               Online   \n",
       "3  55816    EPX  Travel Agency               Online   \n",
       "4  13816    EPX  Travel Agency               Online   \n",
       "\n",
       "                      Product Name  Claim  Duration         Destination  \\\n",
       "0  Rental Vehicle Excess Insurance      0         7            MALAYSIA   \n",
       "1                Cancellation Plan      0        85           SINGAPORE   \n",
       "2  Rental Vehicle Excess Insurance      0        11            MALAYSIA   \n",
       "3         2 way Comprehensive Plan      0        16           INDONESIA   \n",
       "4                Cancellation Plan      0        10  KOREA, REPUBLIC OF   \n",
       "\n",
       "   Net Sales  Commision (in value) Gender  Age  \n",
       "0        0.0                 17.82    NaN   31  \n",
       "1       69.0                  0.00    NaN   36  \n",
       "2       19.8                 11.88    NaN   75  \n",
       "3       20.0                  0.00    NaN   32  \n",
       "4       15.0                  0.00    NaN   29  "
      ]
     },
     "execution_count": 4,
     "metadata": {},
     "output_type": "execute_result"
    }
   ],
   "source": [
    "df.head()"
   ]
  },
  {
   "cell_type": "code",
   "execution_count": 5,
   "metadata": {},
   "outputs": [
    {
     "name": "stdout",
     "output_type": "stream",
     "text": [
      "<class 'pandas.core.frame.DataFrame'>\n",
      "RangeIndex: 50553 entries, 0 to 50552\n",
      "Data columns (total 12 columns):\n",
      " #   Column                Non-Null Count  Dtype  \n",
      "---  ------                --------------  -----  \n",
      " 0   ID                    50553 non-null  int64  \n",
      " 1   Agency                50553 non-null  object \n",
      " 2   Agency Type           50553 non-null  object \n",
      " 3   Distribution Channel  50553 non-null  object \n",
      " 4   Product Name          50553 non-null  object \n",
      " 5   Claim                 50553 non-null  int64  \n",
      " 6   Duration              50553 non-null  int64  \n",
      " 7   Destination           50553 non-null  object \n",
      " 8   Net Sales             50553 non-null  float64\n",
      " 9   Commision (in value)  50553 non-null  float64\n",
      " 10  Gender                14600 non-null  object \n",
      " 11  Age                   50553 non-null  int64  \n",
      "dtypes: float64(2), int64(4), object(6)\n",
      "memory usage: 4.6+ MB\n"
     ]
    }
   ],
   "source": [
    "df.info()"
   ]
  },
  {
   "cell_type": "markdown",
   "metadata": {},
   "source": [
    "# EDA"
   ]
  },
  {
   "cell_type": "code",
   "execution_count": 6,
   "metadata": {},
   "outputs": [],
   "source": [
    "df.drop(\"ID\",axis=1,inplace=True)"
   ]
  },
  {
   "cell_type": "code",
   "execution_count": 7,
   "metadata": {},
   "outputs": [],
   "source": [
    "df.drop(\"Gender\",axis=1,inplace=True)"
   ]
  },
  {
   "cell_type": "code",
   "execution_count": 8,
   "metadata": {},
   "outputs": [
    {
     "data": {
      "text/html": [
       "<div>\n",
       "<style scoped>\n",
       "    .dataframe tbody tr th:only-of-type {\n",
       "        vertical-align: middle;\n",
       "    }\n",
       "\n",
       "    .dataframe tbody tr th {\n",
       "        vertical-align: top;\n",
       "    }\n",
       "\n",
       "    .dataframe thead th {\n",
       "        text-align: right;\n",
       "    }\n",
       "</style>\n",
       "<table border=\"1\" class=\"dataframe\">\n",
       "  <thead>\n",
       "    <tr style=\"text-align: right;\">\n",
       "      <th></th>\n",
       "      <th>Agency</th>\n",
       "      <th>Agency Type</th>\n",
       "      <th>Distribution Channel</th>\n",
       "      <th>Product Name</th>\n",
       "      <th>Claim</th>\n",
       "      <th>Duration</th>\n",
       "      <th>Destination</th>\n",
       "      <th>Net Sales</th>\n",
       "      <th>Commision (in value)</th>\n",
       "      <th>Age</th>\n",
       "    </tr>\n",
       "  </thead>\n",
       "  <tbody>\n",
       "    <tr>\n",
       "      <th>4063</th>\n",
       "      <td>JZI</td>\n",
       "      <td>Airlines</td>\n",
       "      <td>Online</td>\n",
       "      <td>Basic Plan</td>\n",
       "      <td>0</td>\n",
       "      <td>-1</td>\n",
       "      <td>BRUNEI DARUSSALAM</td>\n",
       "      <td>18.0</td>\n",
       "      <td>6.3</td>\n",
       "      <td>118</td>\n",
       "    </tr>\n",
       "    <tr>\n",
       "      <th>38935</th>\n",
       "      <td>JZI</td>\n",
       "      <td>Airlines</td>\n",
       "      <td>Online</td>\n",
       "      <td>Basic Plan</td>\n",
       "      <td>0</td>\n",
       "      <td>-1</td>\n",
       "      <td>INDONESIA</td>\n",
       "      <td>18.0</td>\n",
       "      <td>6.3</td>\n",
       "      <td>118</td>\n",
       "    </tr>\n",
       "    <tr>\n",
       "      <th>48367</th>\n",
       "      <td>JZI</td>\n",
       "      <td>Airlines</td>\n",
       "      <td>Online</td>\n",
       "      <td>Basic Plan</td>\n",
       "      <td>0</td>\n",
       "      <td>-2</td>\n",
       "      <td>BANGLADESH</td>\n",
       "      <td>22.0</td>\n",
       "      <td>7.7</td>\n",
       "      <td>118</td>\n",
       "    </tr>\n",
       "  </tbody>\n",
       "</table>\n",
       "</div>"
      ],
      "text/plain": [
       "      Agency Agency Type Distribution Channel Product Name  Claim  Duration  \\\n",
       "4063     JZI    Airlines               Online   Basic Plan      0        -1   \n",
       "38935    JZI    Airlines               Online   Basic Plan      0        -1   \n",
       "48367    JZI    Airlines               Online   Basic Plan      0        -2   \n",
       "\n",
       "             Destination  Net Sales  Commision (in value)  Age  \n",
       "4063   BRUNEI DARUSSALAM       18.0                   6.3  118  \n",
       "38935          INDONESIA       18.0                   6.3  118  \n",
       "48367         BANGLADESH       22.0                   7.7  118  "
      ]
     },
     "execution_count": 8,
     "metadata": {},
     "output_type": "execute_result"
    }
   ],
   "source": [
    "df[(df[\"Duration\"]<0) & (df[\"Destination\"])]"
   ]
  },
  {
   "cell_type": "code",
   "execution_count": 9,
   "metadata": {},
   "outputs": [
    {
     "data": {
      "text/plain": [
       "Claim                    0.000000\n",
       "Duration                15.958333\n",
       "Net Sales               27.166667\n",
       "Commision (in value)     1.225000\n",
       "Age                     38.604167\n",
       "dtype: float64"
      ]
     },
     "execution_count": 9,
     "metadata": {},
     "output_type": "execute_result"
    }
   ],
   "source": [
    "(df[(df[\"Duration\"]) & (df[\"Destination\"]==\"BANGLADESH\")]).mean()\n",
    " "
   ]
  },
  {
   "cell_type": "code",
   "execution_count": 10,
   "metadata": {},
   "outputs": [
    {
     "data": {
      "text/plain": [
       "Claim                    0.004909\n",
       "Duration                31.335203\n",
       "Net Sales               23.264130\n",
       "Commision (in value)     3.007167\n",
       "Age                     39.112202\n",
       "dtype: float64"
      ]
     },
     "execution_count": 10,
     "metadata": {},
     "output_type": "execute_result"
    }
   ],
   "source": [
    "df[(df[\"Duration\"]) & (df[\"Destination\"]==\"INDONESIA\")].mean()\n"
   ]
  },
  {
   "cell_type": "code",
   "execution_count": 11,
   "metadata": {
    "scrolled": true
   },
   "outputs": [
    {
     "data": {
      "text/plain": [
       "Claim                    0.003247\n",
       "Duration                22.370130\n",
       "Net Sales               18.659091\n",
       "Commision (in value)     6.468182\n",
       "Age                     43.525974\n",
       "dtype: float64"
      ]
     },
     "execution_count": 11,
     "metadata": {},
     "output_type": "execute_result"
    }
   ],
   "source": [
    "df[(df[\"Duration\"]) & (df[\"Destination\"]==\"BRUNEI DARUSSALAM\")].mean()"
   ]
  },
  {
   "cell_type": "code",
   "execution_count": 12,
   "metadata": {},
   "outputs": [
    {
     "data": {
      "text/plain": [
       "Claim                    0.002237\n",
       "Duration                30.413870\n",
       "Net Sales               36.248043\n",
       "Commision (in value)     7.864687\n",
       "Age                     63.737136\n",
       "dtype: float64"
      ]
     },
     "execution_count": 12,
     "metadata": {},
     "output_type": "execute_result"
    }
   ],
   "source": [
    "df[(df[\"Duration\"]) & (df[\"Destination\"]==\"INDIA\")].mean()"
   ]
  },
  {
   "cell_type": "code",
   "execution_count": 13,
   "metadata": {},
   "outputs": [],
   "source": [
    "df[\"Duration\"]=df['Duration'].replace(0,30)"
   ]
  },
  {
   "cell_type": "code",
   "execution_count": 14,
   "metadata": {},
   "outputs": [],
   "source": [
    "# we replace duration -2 value with 16  bangladesh travel duration mean time is 16\n",
    "df[\"Duration\"]=df['Duration'].replace(-2,16)\n",
    "df[\"Duration\"]=df['Duration'].replace(-1,23)\n",
    "df[\"Duration\"]=df['Duration'].replace(-1,32)\n",
    "\n"
   ]
  },
  {
   "cell_type": "code",
   "execution_count": 15,
   "metadata": {},
   "outputs": [
    {
     "data": {
      "text/html": [
       "<div>\n",
       "<style scoped>\n",
       "    .dataframe tbody tr th:only-of-type {\n",
       "        vertical-align: middle;\n",
       "    }\n",
       "\n",
       "    .dataframe tbody tr th {\n",
       "        vertical-align: top;\n",
       "    }\n",
       "\n",
       "    .dataframe thead th {\n",
       "        text-align: right;\n",
       "    }\n",
       "</style>\n",
       "<table border=\"1\" class=\"dataframe\">\n",
       "  <thead>\n",
       "    <tr style=\"text-align: right;\">\n",
       "      <th></th>\n",
       "      <th>Agency</th>\n",
       "      <th>Agency Type</th>\n",
       "      <th>Distribution Channel</th>\n",
       "      <th>Product Name</th>\n",
       "      <th>Claim</th>\n",
       "      <th>Duration</th>\n",
       "      <th>Destination</th>\n",
       "      <th>Net Sales</th>\n",
       "      <th>Commision (in value)</th>\n",
       "      <th>Age</th>\n",
       "    </tr>\n",
       "  </thead>\n",
       "  <tbody>\n",
       "    <tr>\n",
       "      <th>90</th>\n",
       "      <td>JWT</td>\n",
       "      <td>Airlines</td>\n",
       "      <td>Online</td>\n",
       "      <td>Value Plan</td>\n",
       "      <td>0</td>\n",
       "      <td>58</td>\n",
       "      <td>INDIA</td>\n",
       "      <td>78.0</td>\n",
       "      <td>31.20</td>\n",
       "      <td>118</td>\n",
       "    </tr>\n",
       "    <tr>\n",
       "      <th>108</th>\n",
       "      <td>JWT</td>\n",
       "      <td>Airlines</td>\n",
       "      <td>Online</td>\n",
       "      <td>Value Plan</td>\n",
       "      <td>0</td>\n",
       "      <td>15</td>\n",
       "      <td>INDIA</td>\n",
       "      <td>31.0</td>\n",
       "      <td>12.40</td>\n",
       "      <td>118</td>\n",
       "    </tr>\n",
       "    <tr>\n",
       "      <th>140</th>\n",
       "      <td>JWT</td>\n",
       "      <td>Airlines</td>\n",
       "      <td>Online</td>\n",
       "      <td>Value Plan</td>\n",
       "      <td>0</td>\n",
       "      <td>8</td>\n",
       "      <td>INDIA</td>\n",
       "      <td>39.0</td>\n",
       "      <td>15.60</td>\n",
       "      <td>118</td>\n",
       "    </tr>\n",
       "    <tr>\n",
       "      <th>153</th>\n",
       "      <td>JWT</td>\n",
       "      <td>Airlines</td>\n",
       "      <td>Online</td>\n",
       "      <td>Value Plan</td>\n",
       "      <td>0</td>\n",
       "      <td>4</td>\n",
       "      <td>INDIA</td>\n",
       "      <td>78.0</td>\n",
       "      <td>31.20</td>\n",
       "      <td>118</td>\n",
       "    </tr>\n",
       "    <tr>\n",
       "      <th>181</th>\n",
       "      <td>JWT</td>\n",
       "      <td>Airlines</td>\n",
       "      <td>Online</td>\n",
       "      <td>Value Plan</td>\n",
       "      <td>0</td>\n",
       "      <td>30</td>\n",
       "      <td>INDIA</td>\n",
       "      <td>31.0</td>\n",
       "      <td>12.40</td>\n",
       "      <td>118</td>\n",
       "    </tr>\n",
       "    <tr>\n",
       "      <th>...</th>\n",
       "      <td>...</td>\n",
       "      <td>...</td>\n",
       "      <td>...</td>\n",
       "      <td>...</td>\n",
       "      <td>...</td>\n",
       "      <td>...</td>\n",
       "      <td>...</td>\n",
       "      <td>...</td>\n",
       "      <td>...</td>\n",
       "      <td>...</td>\n",
       "    </tr>\n",
       "    <tr>\n",
       "      <th>50158</th>\n",
       "      <td>JWT</td>\n",
       "      <td>Airlines</td>\n",
       "      <td>Online</td>\n",
       "      <td>Value Plan</td>\n",
       "      <td>0</td>\n",
       "      <td>41</td>\n",
       "      <td>INDIA</td>\n",
       "      <td>60.0</td>\n",
       "      <td>24.00</td>\n",
       "      <td>118</td>\n",
       "    </tr>\n",
       "    <tr>\n",
       "      <th>50179</th>\n",
       "      <td>JWT</td>\n",
       "      <td>Airlines</td>\n",
       "      <td>Online</td>\n",
       "      <td>Value Plan</td>\n",
       "      <td>0</td>\n",
       "      <td>62</td>\n",
       "      <td>INDIA</td>\n",
       "      <td>31.0</td>\n",
       "      <td>12.40</td>\n",
       "      <td>118</td>\n",
       "    </tr>\n",
       "    <tr>\n",
       "      <th>50250</th>\n",
       "      <td>JWT</td>\n",
       "      <td>Airlines</td>\n",
       "      <td>Online</td>\n",
       "      <td>Value Plan</td>\n",
       "      <td>0</td>\n",
       "      <td>15</td>\n",
       "      <td>INDIA</td>\n",
       "      <td>31.0</td>\n",
       "      <td>12.40</td>\n",
       "      <td>118</td>\n",
       "    </tr>\n",
       "    <tr>\n",
       "      <th>50429</th>\n",
       "      <td>JZI</td>\n",
       "      <td>Airlines</td>\n",
       "      <td>Online</td>\n",
       "      <td>Basic Plan</td>\n",
       "      <td>0</td>\n",
       "      <td>19</td>\n",
       "      <td>SRI LANKA</td>\n",
       "      <td>35.0</td>\n",
       "      <td>12.25</td>\n",
       "      <td>118</td>\n",
       "    </tr>\n",
       "    <tr>\n",
       "      <th>50478</th>\n",
       "      <td>CCR</td>\n",
       "      <td>Travel Agency</td>\n",
       "      <td>Offline</td>\n",
       "      <td>Comprehensive Plan</td>\n",
       "      <td>0</td>\n",
       "      <td>6</td>\n",
       "      <td>THAILAND</td>\n",
       "      <td>29.0</td>\n",
       "      <td>9.57</td>\n",
       "      <td>118</td>\n",
       "    </tr>\n",
       "  </tbody>\n",
       "</table>\n",
       "<p>795 rows × 10 columns</p>\n",
       "</div>"
      ],
      "text/plain": [
       "      Agency    Agency Type Distribution Channel        Product Name  Claim  \\\n",
       "90       JWT       Airlines               Online          Value Plan      0   \n",
       "108      JWT       Airlines               Online          Value Plan      0   \n",
       "140      JWT       Airlines               Online          Value Plan      0   \n",
       "153      JWT       Airlines               Online          Value Plan      0   \n",
       "181      JWT       Airlines               Online          Value Plan      0   \n",
       "...      ...            ...                  ...                 ...    ...   \n",
       "50158    JWT       Airlines               Online          Value Plan      0   \n",
       "50179    JWT       Airlines               Online          Value Plan      0   \n",
       "50250    JWT       Airlines               Online          Value Plan      0   \n",
       "50429    JZI       Airlines               Online          Basic Plan      0   \n",
       "50478    CCR  Travel Agency              Offline  Comprehensive Plan      0   \n",
       "\n",
       "       Duration Destination  Net Sales  Commision (in value)  Age  \n",
       "90           58       INDIA       78.0                 31.20  118  \n",
       "108          15       INDIA       31.0                 12.40  118  \n",
       "140           8       INDIA       39.0                 15.60  118  \n",
       "153           4       INDIA       78.0                 31.20  118  \n",
       "181          30       INDIA       31.0                 12.40  118  \n",
       "...         ...         ...        ...                   ...  ...  \n",
       "50158        41       INDIA       60.0                 24.00  118  \n",
       "50179        62       INDIA       31.0                 12.40  118  \n",
       "50250        15       INDIA       31.0                 12.40  118  \n",
       "50429        19   SRI LANKA       35.0                 12.25  118  \n",
       "50478         6    THAILAND       29.0                  9.57  118  \n",
       "\n",
       "[795 rows x 10 columns]"
      ]
     },
     "execution_count": 15,
     "metadata": {},
     "output_type": "execute_result"
    }
   ],
   "source": [
    " df[df[\"Age\"]>100]"
   ]
  },
  {
   "cell_type": "code",
   "execution_count": 16,
   "metadata": {},
   "outputs": [
    {
     "data": {
      "text/plain": [
       "40.011235732795285"
      ]
     },
     "execution_count": 16,
     "metadata": {},
     "output_type": "execute_result"
    }
   ],
   "source": [
    "df[\"Age\"].mean()"
   ]
  },
  {
   "cell_type": "code",
   "execution_count": 17,
   "metadata": {},
   "outputs": [],
   "source": [
    "df[\"Age\"]=df['Age'].replace(118,40)"
   ]
  },
  {
   "cell_type": "code",
   "execution_count": 18,
   "metadata": {},
   "outputs": [],
   "source": [
    "df_num = df.select_dtypes([\"int64\",\"float64\"])\n",
    "df_cat = df.select_dtypes(\"object\")"
   ]
  },
  {
   "cell_type": "markdown",
   "metadata": {},
   "source": [
    "# SCALING"
   ]
  },
  {
   "cell_type": "code",
   "execution_count": 19,
   "metadata": {},
   "outputs": [],
   "source": [
    "from sklearn.preprocessing import MinMaxScaler"
   ]
  },
  {
   "cell_type": "code",
   "execution_count": 20,
   "metadata": {},
   "outputs": [],
   "source": [
    "for col in df_num:\n",
    "    mm = MinMaxScaler()\n",
    "    df_num[col]=mm.fit_transform(df_num[[col]])"
   ]
  },
  {
   "cell_type": "markdown",
   "metadata": {},
   "source": [
    "# ENCODING"
   ]
  },
  {
   "cell_type": "code",
   "execution_count": 21,
   "metadata": {},
   "outputs": [],
   "source": [
    "from sklearn.preprocessing import LabelEncoder\n",
    "for col in df_cat:\n",
    "    le = LabelEncoder()\n",
    "    df_cat[col] = le.fit_transform(df_cat[[col]])\n",
    "    "
   ]
  },
  {
   "cell_type": "code",
   "execution_count": 22,
   "metadata": {},
   "outputs": [
    {
     "data": {
      "text/html": [
       "<div>\n",
       "<style scoped>\n",
       "    .dataframe tbody tr th:only-of-type {\n",
       "        vertical-align: middle;\n",
       "    }\n",
       "\n",
       "    .dataframe tbody tr th {\n",
       "        vertical-align: top;\n",
       "    }\n",
       "\n",
       "    .dataframe thead th {\n",
       "        text-align: right;\n",
       "    }\n",
       "</style>\n",
       "<table border=\"1\" class=\"dataframe\">\n",
       "  <thead>\n",
       "    <tr style=\"text-align: right;\">\n",
       "      <th></th>\n",
       "      <th>Agency</th>\n",
       "      <th>Agency Type</th>\n",
       "      <th>Distribution Channel</th>\n",
       "      <th>Product Name</th>\n",
       "      <th>Destination</th>\n",
       "    </tr>\n",
       "  </thead>\n",
       "  <tbody>\n",
       "    <tr>\n",
       "      <th>0</th>\n",
       "      <td>6</td>\n",
       "      <td>1</td>\n",
       "      <td>1</td>\n",
       "      <td>16</td>\n",
       "      <td>56</td>\n",
       "    </tr>\n",
       "    <tr>\n",
       "      <th>1</th>\n",
       "      <td>7</td>\n",
       "      <td>1</td>\n",
       "      <td>1</td>\n",
       "      <td>10</td>\n",
       "      <td>79</td>\n",
       "    </tr>\n",
       "    <tr>\n",
       "      <th>2</th>\n",
       "      <td>6</td>\n",
       "      <td>1</td>\n",
       "      <td>1</td>\n",
       "      <td>16</td>\n",
       "      <td>56</td>\n",
       "    </tr>\n",
       "    <tr>\n",
       "      <th>3</th>\n",
       "      <td>7</td>\n",
       "      <td>1</td>\n",
       "      <td>1</td>\n",
       "      <td>1</td>\n",
       "      <td>38</td>\n",
       "    </tr>\n",
       "    <tr>\n",
       "      <th>4</th>\n",
       "      <td>7</td>\n",
       "      <td>1</td>\n",
       "      <td>1</td>\n",
       "      <td>10</td>\n",
       "      <td>47</td>\n",
       "    </tr>\n",
       "    <tr>\n",
       "      <th>...</th>\n",
       "      <td>...</td>\n",
       "      <td>...</td>\n",
       "      <td>...</td>\n",
       "      <td>...</td>\n",
       "      <td>...</td>\n",
       "    </tr>\n",
       "    <tr>\n",
       "      <th>50548</th>\n",
       "      <td>6</td>\n",
       "      <td>1</td>\n",
       "      <td>1</td>\n",
       "      <td>16</td>\n",
       "      <td>65</td>\n",
       "    </tr>\n",
       "    <tr>\n",
       "      <th>50549</th>\n",
       "      <td>7</td>\n",
       "      <td>1</td>\n",
       "      <td>1</td>\n",
       "      <td>0</td>\n",
       "      <td>38</td>\n",
       "    </tr>\n",
       "    <tr>\n",
       "      <th>50550</th>\n",
       "      <td>10</td>\n",
       "      <td>1</td>\n",
       "      <td>1</td>\n",
       "      <td>24</td>\n",
       "      <td>38</td>\n",
       "    </tr>\n",
       "    <tr>\n",
       "      <th>50551</th>\n",
       "      <td>7</td>\n",
       "      <td>1</td>\n",
       "      <td>1</td>\n",
       "      <td>10</td>\n",
       "      <td>7</td>\n",
       "    </tr>\n",
       "    <tr>\n",
       "      <th>50552</th>\n",
       "      <td>7</td>\n",
       "      <td>1</td>\n",
       "      <td>1</td>\n",
       "      <td>0</td>\n",
       "      <td>79</td>\n",
       "    </tr>\n",
       "  </tbody>\n",
       "</table>\n",
       "<p>50553 rows × 5 columns</p>\n",
       "</div>"
      ],
      "text/plain": [
       "       Agency  Agency Type  Distribution Channel  Product Name  Destination\n",
       "0           6            1                     1            16           56\n",
       "1           7            1                     1            10           79\n",
       "2           6            1                     1            16           56\n",
       "3           7            1                     1             1           38\n",
       "4           7            1                     1            10           47\n",
       "...       ...          ...                   ...           ...          ...\n",
       "50548       6            1                     1            16           65\n",
       "50549       7            1                     1             0           38\n",
       "50550      10            1                     1            24           38\n",
       "50551       7            1                     1            10            7\n",
       "50552       7            1                     1             0           79\n",
       "\n",
       "[50553 rows x 5 columns]"
      ]
     },
     "execution_count": 22,
     "metadata": {},
     "output_type": "execute_result"
    }
   ],
   "source": [
    "df_cat"
   ]
  },
  {
   "cell_type": "code",
   "execution_count": 23,
   "metadata": {},
   "outputs": [],
   "source": [
    "df_clean = pd.concat([df_num,df_cat],axis=1)"
   ]
  },
  {
   "cell_type": "code",
   "execution_count": 24,
   "metadata": {},
   "outputs": [
    {
     "data": {
      "text/html": [
       "<div>\n",
       "<style scoped>\n",
       "    .dataframe tbody tr th:only-of-type {\n",
       "        vertical-align: middle;\n",
       "    }\n",
       "\n",
       "    .dataframe tbody tr th {\n",
       "        vertical-align: top;\n",
       "    }\n",
       "\n",
       "    .dataframe thead th {\n",
       "        text-align: right;\n",
       "    }\n",
       "</style>\n",
       "<table border=\"1\" class=\"dataframe\">\n",
       "  <thead>\n",
       "    <tr style=\"text-align: right;\">\n",
       "      <th></th>\n",
       "      <th>Claim</th>\n",
       "      <th>Duration</th>\n",
       "      <th>Net Sales</th>\n",
       "      <th>Commision (in value)</th>\n",
       "      <th>Age</th>\n",
       "      <th>Agency</th>\n",
       "      <th>Agency Type</th>\n",
       "      <th>Distribution Channel</th>\n",
       "      <th>Product Name</th>\n",
       "      <th>Destination</th>\n",
       "    </tr>\n",
       "  </thead>\n",
       "  <tbody>\n",
       "    <tr>\n",
       "      <th>0</th>\n",
       "      <td>0.0</td>\n",
       "      <td>0.001230</td>\n",
       "      <td>0.324437</td>\n",
       "      <td>0.062857</td>\n",
       "      <td>0.352273</td>\n",
       "      <td>6</td>\n",
       "      <td>1</td>\n",
       "      <td>1</td>\n",
       "      <td>16</td>\n",
       "      <td>56</td>\n",
       "    </tr>\n",
       "    <tr>\n",
       "      <th>1</th>\n",
       "      <td>0.0</td>\n",
       "      <td>0.017213</td>\n",
       "      <td>0.381985</td>\n",
       "      <td>0.000000</td>\n",
       "      <td>0.409091</td>\n",
       "      <td>7</td>\n",
       "      <td>1</td>\n",
       "      <td>1</td>\n",
       "      <td>10</td>\n",
       "      <td>79</td>\n",
       "    </tr>\n",
       "    <tr>\n",
       "      <th>2</th>\n",
       "      <td>0.0</td>\n",
       "      <td>0.002049</td>\n",
       "      <td>0.340951</td>\n",
       "      <td>0.041905</td>\n",
       "      <td>0.852273</td>\n",
       "      <td>6</td>\n",
       "      <td>1</td>\n",
       "      <td>1</td>\n",
       "      <td>16</td>\n",
       "      <td>56</td>\n",
       "    </tr>\n",
       "    <tr>\n",
       "      <th>3</th>\n",
       "      <td>0.0</td>\n",
       "      <td>0.003074</td>\n",
       "      <td>0.341118</td>\n",
       "      <td>0.000000</td>\n",
       "      <td>0.363636</td>\n",
       "      <td>7</td>\n",
       "      <td>1</td>\n",
       "      <td>1</td>\n",
       "      <td>1</td>\n",
       "      <td>38</td>\n",
       "    </tr>\n",
       "    <tr>\n",
       "      <th>4</th>\n",
       "      <td>0.0</td>\n",
       "      <td>0.001844</td>\n",
       "      <td>0.336947</td>\n",
       "      <td>0.000000</td>\n",
       "      <td>0.329545</td>\n",
       "      <td>7</td>\n",
       "      <td>1</td>\n",
       "      <td>1</td>\n",
       "      <td>10</td>\n",
       "      <td>47</td>\n",
       "    </tr>\n",
       "    <tr>\n",
       "      <th>...</th>\n",
       "      <td>...</td>\n",
       "      <td>...</td>\n",
       "      <td>...</td>\n",
       "      <td>...</td>\n",
       "      <td>...</td>\n",
       "      <td>...</td>\n",
       "      <td>...</td>\n",
       "      <td>...</td>\n",
       "      <td>...</td>\n",
       "      <td>...</td>\n",
       "    </tr>\n",
       "    <tr>\n",
       "      <th>50548</th>\n",
       "      <td>0.0</td>\n",
       "      <td>0.002049</td>\n",
       "      <td>0.407006</td>\n",
       "      <td>0.209524</td>\n",
       "      <td>0.568182</td>\n",
       "      <td>6</td>\n",
       "      <td>1</td>\n",
       "      <td>1</td>\n",
       "      <td>16</td>\n",
       "      <td>65</td>\n",
       "    </tr>\n",
       "    <tr>\n",
       "      <th>50549</th>\n",
       "      <td>0.0</td>\n",
       "      <td>0.009631</td>\n",
       "      <td>0.341118</td>\n",
       "      <td>0.000000</td>\n",
       "      <td>0.409091</td>\n",
       "      <td>7</td>\n",
       "      <td>1</td>\n",
       "      <td>1</td>\n",
       "      <td>0</td>\n",
       "      <td>38</td>\n",
       "    </tr>\n",
       "    <tr>\n",
       "      <th>50550</th>\n",
       "      <td>0.0</td>\n",
       "      <td>0.004713</td>\n",
       "      <td>0.347790</td>\n",
       "      <td>0.037531</td>\n",
       "      <td>0.545455</td>\n",
       "      <td>10</td>\n",
       "      <td>1</td>\n",
       "      <td>1</td>\n",
       "      <td>24</td>\n",
       "      <td>38</td>\n",
       "    </tr>\n",
       "    <tr>\n",
       "      <th>50551</th>\n",
       "      <td>0.0</td>\n",
       "      <td>0.004918</td>\n",
       "      <td>0.336947</td>\n",
       "      <td>0.000000</td>\n",
       "      <td>0.409091</td>\n",
       "      <td>7</td>\n",
       "      <td>1</td>\n",
       "      <td>1</td>\n",
       "      <td>10</td>\n",
       "      <td>7</td>\n",
       "    </tr>\n",
       "    <tr>\n",
       "      <th>50552</th>\n",
       "      <td>0.0</td>\n",
       "      <td>0.001639</td>\n",
       "      <td>0.341118</td>\n",
       "      <td>0.000000</td>\n",
       "      <td>0.670455</td>\n",
       "      <td>7</td>\n",
       "      <td>1</td>\n",
       "      <td>1</td>\n",
       "      <td>0</td>\n",
       "      <td>79</td>\n",
       "    </tr>\n",
       "  </tbody>\n",
       "</table>\n",
       "<p>50553 rows × 10 columns</p>\n",
       "</div>"
      ],
      "text/plain": [
       "       Claim  Duration  Net Sales  Commision (in value)       Age  Agency  \\\n",
       "0        0.0  0.001230   0.324437              0.062857  0.352273       6   \n",
       "1        0.0  0.017213   0.381985              0.000000  0.409091       7   \n",
       "2        0.0  0.002049   0.340951              0.041905  0.852273       6   \n",
       "3        0.0  0.003074   0.341118              0.000000  0.363636       7   \n",
       "4        0.0  0.001844   0.336947              0.000000  0.329545       7   \n",
       "...      ...       ...        ...                   ...       ...     ...   \n",
       "50548    0.0  0.002049   0.407006              0.209524  0.568182       6   \n",
       "50549    0.0  0.009631   0.341118              0.000000  0.409091       7   \n",
       "50550    0.0  0.004713   0.347790              0.037531  0.545455      10   \n",
       "50551    0.0  0.004918   0.336947              0.000000  0.409091       7   \n",
       "50552    0.0  0.001639   0.341118              0.000000  0.670455       7   \n",
       "\n",
       "       Agency Type  Distribution Channel  Product Name  Destination  \n",
       "0                1                     1            16           56  \n",
       "1                1                     1            10           79  \n",
       "2                1                     1            16           56  \n",
       "3                1                     1             1           38  \n",
       "4                1                     1            10           47  \n",
       "...            ...                   ...           ...          ...  \n",
       "50548            1                     1            16           65  \n",
       "50549            1                     1             0           38  \n",
       "50550            1                     1            24           38  \n",
       "50551            1                     1            10            7  \n",
       "50552            1                     1             0           79  \n",
       "\n",
       "[50553 rows x 10 columns]"
      ]
     },
     "execution_count": 24,
     "metadata": {},
     "output_type": "execute_result"
    }
   ],
   "source": [
    "df_clean"
   ]
  },
  {
   "cell_type": "markdown",
   "metadata": {},
   "source": [
    "# Training Model"
   ]
  },
  {
   "cell_type": "code",
   "execution_count": 25,
   "metadata": {},
   "outputs": [],
   "source": [
    "X = df_clean.drop(\"Claim\",axis=1)\n",
    "y = df_clean[\"Claim\"]"
   ]
  },
  {
   "cell_type": "code",
   "execution_count": 26,
   "metadata": {},
   "outputs": [],
   "source": [
    "from sklearn.model_selection import train_test_split"
   ]
  },
  {
   "cell_type": "code",
   "execution_count": 27,
   "metadata": {},
   "outputs": [],
   "source": [
    "X_train, X_test, y_train, y_test = train_test_split(X,y,test_size=0.3, random_state=1)"
   ]
  },
  {
   "cell_type": "code",
   "execution_count": 28,
   "metadata": {},
   "outputs": [],
   "source": [
    "from sklearn.linear_model import LogisticRegression"
   ]
  },
  {
   "cell_type": "code",
   "execution_count": 29,
   "metadata": {},
   "outputs": [],
   "source": [
    "model = LogisticRegression()"
   ]
  },
  {
   "cell_type": "code",
   "execution_count": 30,
   "metadata": {},
   "outputs": [
    {
     "data": {
      "text/plain": [
       "LogisticRegression()"
      ]
     },
     "execution_count": 30,
     "metadata": {},
     "output_type": "execute_result"
    }
   ],
   "source": [
    "model.fit(X_train,y_train)"
   ]
  },
  {
   "cell_type": "code",
   "execution_count": 31,
   "metadata": {},
   "outputs": [],
   "source": [
    "y_pred = model.predict(X_test)"
   ]
  },
  {
   "cell_type": "code",
   "execution_count": 32,
   "metadata": {},
   "outputs": [],
   "source": [
    "from sklearn.metrics import classification_report"
   ]
  },
  {
   "cell_type": "code",
   "execution_count": 33,
   "metadata": {},
   "outputs": [
    {
     "name": "stdout",
     "output_type": "stream",
     "text": [
      "              precision    recall  f1-score   support\n",
      "\n",
      "         0.0       0.99      1.00      0.99     14961\n",
      "         1.0       0.00      0.00      0.00       205\n",
      "\n",
      "    accuracy                           0.99     15166\n",
      "   macro avg       0.49      0.50      0.50     15166\n",
      "weighted avg       0.97      0.99      0.98     15166\n",
      "\n"
     ]
    }
   ],
   "source": [
    "print(classification_report(y_test,y_pred))"
   ]
  },
  {
   "cell_type": "code",
   "execution_count": 34,
   "metadata": {},
   "outputs": [
    {
     "data": {
      "image/png": "[encoded data removed]",
      "text/plain": [
       "<Figure size 432x288 with 1 Axes>"
      ]
     },
     "metadata": {
      "needs_background": "light"
     },
     "output_type": "display_data"
    },
    {
     "name": "stdout",
     "output_type": "stream",
     "text": [
      "Claim 8.076976414369875\n"
     ]
    },
    {
     "data": {
      "image/png": "[encoded data removed]",
      "text/plain": [
       "<Figure size 432x288 with 1 Axes>"
      ]
     },
     "metadata": {
      "needs_background": "light"
     },
     "output_type": "display_data"
    },
    {
     "name": "stdout",
     "output_type": "stream",
     "text": [
      "Duration 22.8789067527294\n"
     ]
    },
    {
     "data": {
      "image/png": "[encoded data removed]",
      "text/plain": [
       "<Figure size 432x288 with 1 Axes>"
      ]
     },
     "metadata": {
      "needs_background": "light"
     },
     "output_type": "display_data"
    },
    {
     "name": "stdout",
     "output_type": "stream",
     "text": [
      "Net Sales 3.328144191034199\n"
     ]
    },
    {
     "data": {
      "image/png": "[encoded data removed]",
      "text/plain": [
       "<Figure size 432x288 with 1 Axes>"
      ]
     },
     "metadata": {
      "needs_background": "light"
     },
     "output_type": "display_data"
    },
    {
     "name": "stdout",
     "output_type": "stream",
     "text": [
      "Commision (in value) 4.07806843566346\n"
     ]
    },
    {
     "data": {
      "image/png": "[encoded data removed]",
      "text/plain": [
       "<Figure size 432x288 with 1 Axes>"
      ]
     },
     "metadata": {
      "needs_background": "light"
     },
     "output_type": "display_data"
    },
    {
     "name": "stdout",
     "output_type": "stream",
     "text": [
      "Age 1.2032135027976119\n"
     ]
    }
   ],
   "source": [
    "from scipy.stats import skew #liabrary  for skiwness showing\n",
    "for col in df_num:\n",
    "  plt.figure()\n",
    "  sns.distplot(df_num[col])\n",
    "  plt.show()\n",
    "  print(col, skew(df_num[col]))"
   ]
  },
  {
   "cell_type": "code",
   "execution_count": 35,
   "metadata": {},
   "outputs": [],
   "source": [
    "for col in df_num:\n",
    "  if skew(df_num[col]) >= 0.5 or skew(df_num[col]) <= -0.5:\n",
    "    df_num[col] = np.sqrt(df_num[col])\n",
    "    #df_num[col] = np.log(df_num[col]) "
   ]
  },
  {
   "cell_type": "code",
   "execution_count": 36,
   "metadata": {},
   "outputs": [
    {
     "data": {
      "image/png": "[encoded data removed]",
      "text/plain": [
       "<Figure size 432x288 with 1 Axes>"
      ]
     },
     "metadata": {
      "needs_background": "light"
     },
     "output_type": "display_data"
    },
    {
     "name": "stdout",
     "output_type": "stream",
     "text": [
      "Claim 8.076976414369875\n"
     ]
    },
    {
     "data": {
      "image/png": "[encoded data removed]",
      "text/plain": [
       "<Figure size 432x288 with 1 Axes>"
      ]
     },
     "metadata": {
      "needs_background": "light"
     },
     "output_type": "display_data"
    },
    {
     "name": "stdout",
     "output_type": "stream",
     "text": [
      "Duration 2.3154214359689886\n"
     ]
    },
    {
     "data": {
      "image/png": "[encoded data removed]",
      "text/plain": [
       "<Figure size 432x288 with 1 Axes>"
      ]
     },
     "metadata": {
      "needs_background": "light"
     },
     "output_type": "display_data"
    },
    {
     "name": "stdout",
     "output_type": "stream",
     "text": [
      "Net Sales 2.490325174256031\n"
     ]
    },
    {
     "data": {
      "image/png": "[encoded data removed]",
      "text/plain": [
       "<Figure size 432x288 with 1 Axes>"
      ]
     },
     "metadata": {
      "needs_background": "light"
     },
     "output_type": "display_data"
    },
    {
     "name": "stdout",
     "output_type": "stream",
     "text": [
      "Commision (in value) 1.3513194369869306\n"
     ]
    },
    {
     "data": {
      "image/png": "[encoded data removed]",
      "text/plain": [
       "<Figure size 432x288 with 1 Axes>"
      ]
     },
     "metadata": {
      "needs_background": "light"
     },
     "output_type": "display_data"
    },
    {
     "name": "stdout",
     "output_type": "stream",
     "text": [
      "Age 0.684930238396927\n"
     ]
    }
   ],
   "source": [
    " for col in df_num:\n",
    "  plt.figure()\n",
    "  sns.distplot(df_num[col])\n",
    "  plt.show()\n",
    "  print(col, skew(df_num[col]))"
   ]
  },
  {
   "cell_type": "code",
   "execution_count": 37,
   "metadata": {},
   "outputs": [
    {
     "name": "stdout",
     "output_type": "stream",
     "text": [
      "<class 'pandas.core.frame.DataFrame'>\n",
      "RangeIndex: 50553 entries, 0 to 50552\n",
      "Data columns (total 10 columns):\n",
      " #   Column                Non-Null Count  Dtype  \n",
      "---  ------                --------------  -----  \n",
      " 0   Agency                50553 non-null  object \n",
      " 1   Agency Type           50553 non-null  object \n",
      " 2   Distribution Channel  50553 non-null  object \n",
      " 3   Product Name          50553 non-null  object \n",
      " 4   Claim                 50553 non-null  int64  \n",
      " 5   Duration              50553 non-null  int64  \n",
      " 6   Destination           50553 non-null  object \n",
      " 7   Net Sales             50553 non-null  float64\n",
      " 8   Commision (in value)  50553 non-null  float64\n",
      " 9   Age                   50553 non-null  int64  \n",
      "dtypes: float64(2), int64(3), object(5)\n",
      "memory usage: 3.9+ MB\n"
     ]
    }
   ],
   "source": [
    "df.info()"
   ]
  },
  {
   "cell_type": "code",
   "execution_count": 38,
   "metadata": {},
   "outputs": [
    {
     "data": {
      "image/png": "[encoded data removed]",
      "text/plain": [
       "<Figure size 432x288 with 1 Axes>"
      ]
     },
     "metadata": {
      "needs_background": "light"
     },
     "output_type": "display_data"
    },
    {
     "data": {
      "image/png": "[encoded data removed]",
      "text/plain": [
       "<Figure size 432x288 with 1 Axes>"
      ]
     },
     "metadata": {
      "needs_background": "light"
     },
     "output_type": "display_data"
    },
    {
     "data": {
      "image/png": "[encoded data removed]",
      "text/plain": [
       "<Figure size 432x288 with 1 Axes>"
      ]
     },
     "metadata": {
      "needs_background": "light"
     },
     "output_type": "display_data"
    },
    {
     "data": {
      "image/png": "[encoded data removed]",
      "text/plain": [
       "<Figure size 432x288 with 1 Axes>"
      ]
     },
     "metadata": {
      "needs_background": "light"
     },
     "output_type": "display_data"
    },
    {
     "data": {
      "image/png": "[encoded data removed]",
      "text/plain": [
       "<Figure size 432x288 with 1 Axes>"
      ]
     },
     "metadata": {
      "needs_background": "light"
     },
     "output_type": "display_data"
    }
   ],
   "source": [
    "for col in df_num:\n",
    "    plt.figure()\n",
    "    sns.boxplot(df_num[col])\n",
    "    plt.show()"
   ]
  },
  {
   "cell_type": "code",
   "execution_count": 39,
   "metadata": {},
   "outputs": [
    {
     "data": {
      "text/html": [
       "<div>\n",
       "<style scoped>\n",
       "    .dataframe tbody tr th:only-of-type {\n",
       "        vertical-align: middle;\n",
       "    }\n",
       "\n",
       "    .dataframe tbody tr th {\n",
       "        vertical-align: top;\n",
       "    }\n",
       "\n",
       "    .dataframe thead th {\n",
       "        text-align: right;\n",
       "    }\n",
       "</style>\n",
       "<table border=\"1\" class=\"dataframe\">\n",
       "  <thead>\n",
       "    <tr style=\"text-align: right;\">\n",
       "      <th></th>\n",
       "      <th>Agency</th>\n",
       "      <th>Agency Type</th>\n",
       "      <th>Distribution Channel</th>\n",
       "      <th>Product Name</th>\n",
       "      <th>Claim</th>\n",
       "      <th>Duration</th>\n",
       "      <th>Destination</th>\n",
       "      <th>Net Sales</th>\n",
       "      <th>Commision (in value)</th>\n",
       "      <th>Age</th>\n",
       "    </tr>\n",
       "  </thead>\n",
       "  <tbody>\n",
       "    <tr>\n",
       "      <th>1362</th>\n",
       "      <td>TST</td>\n",
       "      <td>Travel Agency</td>\n",
       "      <td>Offline</td>\n",
       "      <td>Travel Cruise Protect</td>\n",
       "      <td>0</td>\n",
       "      <td>94</td>\n",
       "      <td>THAILAND</td>\n",
       "      <td>30.0</td>\n",
       "      <td>10.50</td>\n",
       "      <td>0</td>\n",
       "    </tr>\n",
       "    <tr>\n",
       "      <th>10890</th>\n",
       "      <td>C2B</td>\n",
       "      <td>Airlines</td>\n",
       "      <td>Online</td>\n",
       "      <td>Bronze Plan</td>\n",
       "      <td>0</td>\n",
       "      <td>56</td>\n",
       "      <td>SINGAPORE</td>\n",
       "      <td>86.5</td>\n",
       "      <td>21.63</td>\n",
       "      <td>1</td>\n",
       "    </tr>\n",
       "    <tr>\n",
       "      <th>16332</th>\n",
       "      <td>C2B</td>\n",
       "      <td>Airlines</td>\n",
       "      <td>Online</td>\n",
       "      <td>Bronze Plan</td>\n",
       "      <td>0</td>\n",
       "      <td>12</td>\n",
       "      <td>SINGAPORE</td>\n",
       "      <td>16.0</td>\n",
       "      <td>4.00</td>\n",
       "      <td>1</td>\n",
       "    </tr>\n",
       "    <tr>\n",
       "      <th>20779</th>\n",
       "      <td>C2B</td>\n",
       "      <td>Airlines</td>\n",
       "      <td>Online</td>\n",
       "      <td>Silver Plan</td>\n",
       "      <td>0</td>\n",
       "      <td>33</td>\n",
       "      <td>SINGAPORE</td>\n",
       "      <td>74.4</td>\n",
       "      <td>18.60</td>\n",
       "      <td>1</td>\n",
       "    </tr>\n",
       "    <tr>\n",
       "      <th>45736</th>\n",
       "      <td>C2B</td>\n",
       "      <td>Airlines</td>\n",
       "      <td>Online</td>\n",
       "      <td>Silver Plan</td>\n",
       "      <td>0</td>\n",
       "      <td>10</td>\n",
       "      <td>SINGAPORE</td>\n",
       "      <td>46.8</td>\n",
       "      <td>11.70</td>\n",
       "      <td>1</td>\n",
       "    </tr>\n",
       "    <tr>\n",
       "      <th>45828</th>\n",
       "      <td>TST</td>\n",
       "      <td>Travel Agency</td>\n",
       "      <td>Offline</td>\n",
       "      <td>Travel Cruise Protect</td>\n",
       "      <td>0</td>\n",
       "      <td>94</td>\n",
       "      <td>THAILAND</td>\n",
       "      <td>-30.0</td>\n",
       "      <td>10.50</td>\n",
       "      <td>0</td>\n",
       "    </tr>\n",
       "  </tbody>\n",
       "</table>\n",
       "</div>"
      ],
      "text/plain": [
       "      Agency    Agency Type Distribution Channel           Product Name  \\\n",
       "1362     TST  Travel Agency              Offline  Travel Cruise Protect   \n",
       "10890    C2B       Airlines               Online            Bronze Plan   \n",
       "16332    C2B       Airlines               Online            Bronze Plan   \n",
       "20779    C2B       Airlines               Online            Silver Plan   \n",
       "45736    C2B       Airlines               Online            Silver Plan   \n",
       "45828    TST  Travel Agency              Offline  Travel Cruise Protect   \n",
       "\n",
       "       Claim  Duration Destination  Net Sales  Commision (in value)  Age  \n",
       "1362       0        94    THAILAND       30.0                 10.50    0  \n",
       "10890      0        56   SINGAPORE       86.5                 21.63    1  \n",
       "16332      0        12   SINGAPORE       16.0                  4.00    1  \n",
       "20779      0        33   SINGAPORE       74.4                 18.60    1  \n",
       "45736      0        10   SINGAPORE       46.8                 11.70    1  \n",
       "45828      0        94    THAILAND      -30.0                 10.50    0  "
      ]
     },
     "execution_count": 39,
     "metadata": {},
     "output_type": "execute_result"
    }
   ],
   "source": [
    " df[(df[\"Age\"] < 2)]"
   ]
  },
  {
   "cell_type": "code",
   "execution_count": 40,
   "metadata": {},
   "outputs": [],
   "source": [
    "df.drop(1362, inplace=True)  \n",
    "df.drop(16332, inplace=True)\n",
    "df.drop(20779, inplace=True)\n",
    "df.drop(45736, inplace=True)\n",
    "df.drop(45828, inplace=True)\n",
    "df.drop(10890, inplace=True)"
   ]
  },
  {
   "cell_type": "code",
   "execution_count": 41,
   "metadata": {},
   "outputs": [
    {
     "data": {
      "text/html": [
       "<div>\n",
       "<style scoped>\n",
       "    .dataframe tbody tr th:only-of-type {\n",
       "        vertical-align: middle;\n",
       "    }\n",
       "\n",
       "    .dataframe tbody tr th {\n",
       "        vertical-align: top;\n",
       "    }\n",
       "\n",
       "    .dataframe thead th {\n",
       "        text-align: right;\n",
       "    }\n",
       "</style>\n",
       "<table border=\"1\" class=\"dataframe\">\n",
       "  <thead>\n",
       "    <tr style=\"text-align: right;\">\n",
       "      <th></th>\n",
       "      <th>Agency</th>\n",
       "      <th>Agency Type</th>\n",
       "      <th>Distribution Channel</th>\n",
       "      <th>Product Name</th>\n",
       "      <th>Claim</th>\n",
       "      <th>Duration</th>\n",
       "      <th>Destination</th>\n",
       "      <th>Net Sales</th>\n",
       "      <th>Commision (in value)</th>\n",
       "      <th>Age</th>\n",
       "    </tr>\n",
       "  </thead>\n",
       "  <tbody>\n",
       "  </tbody>\n",
       "</table>\n",
       "</div>"
      ],
      "text/plain": [
       "Empty DataFrame\n",
       "Columns: [Agency, Agency Type, Distribution Channel, Product Name, Claim, Duration, Destination, Net Sales, Commision (in value), Age]\n",
       "Index: []"
      ]
     },
     "execution_count": 41,
     "metadata": {},
     "output_type": "execute_result"
    }
   ],
   "source": [
    " df[(df[\"Age\"] < 2)]"
   ]
  },
  {
   "cell_type": "markdown",
   "metadata": {},
   "source": [
    "# DATA Balancing"
   ]
  },
  {
   "cell_type": "code",
   "execution_count": 42,
   "metadata": {},
   "outputs": [
    {
     "name": "stdout",
     "output_type": "stream",
     "text": [
      "0.0    49812\n",
      "1.0      741\n",
      "Name: Claim, dtype: int64\n",
      "---------------------------------------------------\n"
     ]
    },
    {
     "data": {
      "image/png": "[encoded data removed]",
      "text/plain": [
       "<Figure size 504x504 with 1 Axes>"
      ]
     },
     "metadata": {},
     "output_type": "display_data"
    }
   ],
   "source": [
    "print(df_clean[\"Claim\"].value_counts())\n",
    "print(\"---------------------------------------------------\")\n",
    "plt.figure(figsize=(7,7))\n",
    "df[\"Claim\"].value_counts().plot.pie(autopct=\"%.1f%%\")\n",
    "plt.show()"
   ]
  },
  {
   "cell_type": "code",
   "execution_count": 43,
   "metadata": {},
   "outputs": [],
   "source": [
    "#our data is imbalance so we are doing over sampling because of data is not too much\n",
    "from imblearn.over_sampling import RandomOverSampler"
   ]
  },
  {
   "cell_type": "code",
   "execution_count": 44,
   "metadata": {},
   "outputs": [],
   "source": [
    "ros = RandomOverSampler(random_state=1)\n"
   ]
  },
  {
   "cell_type": "code",
   "execution_count": 45,
   "metadata": {},
   "outputs": [],
   "source": [
    "X_sample2, y_sample2 = ros.fit_sample(X_train,y_train)\n",
    "X_sample2_test, y_sample2_test = ros.fit_sample(X_test,y_test)"
   ]
  },
  {
   "cell_type": "code",
   "execution_count": 46,
   "metadata": {},
   "outputs": [
    {
     "data": {
      "text/plain": [
       "1.0    34851\n",
       "0.0    34851\n",
       "Name: Claim, dtype: int64"
      ]
     },
     "execution_count": 46,
     "metadata": {},
     "output_type": "execute_result"
    }
   ],
   "source": [
    "pd.Series(y_sample2).value_counts()"
   ]
  },
  {
   "cell_type": "code",
   "execution_count": 47,
   "metadata": {},
   "outputs": [
    {
     "data": {
      "text/plain": [
       "LogisticRegression()"
      ]
     },
     "execution_count": 47,
     "metadata": {},
     "output_type": "execute_result"
    }
   ],
   "source": [
    "lr3 = LogisticRegression()\n",
    "lr3.fit(X_sample2, y_sample2)"
   ]
  },
  {
   "cell_type": "code",
   "execution_count": 48,
   "metadata": {},
   "outputs": [],
   "source": [
    "y_pred3= lr3.predict(X_test)"
   ]
  },
  {
   "cell_type": "code",
   "execution_count": 49,
   "metadata": {},
   "outputs": [
    {
     "name": "stdout",
     "output_type": "stream",
     "text": [
      "              precision    recall  f1-score   support\n",
      "\n",
      "         0.0       0.99      0.83      0.91     14961\n",
      "         1.0       0.05      0.63      0.09       205\n",
      "\n",
      "    accuracy                           0.83     15166\n",
      "   macro avg       0.52      0.73      0.50     15166\n",
      "weighted avg       0.98      0.83      0.89     15166\n",
      "\n"
     ]
    }
   ],
   "source": [
    "print(classification_report(y_test,y_pred3))"
   ]
  },
  {
   "cell_type": "code",
   "execution_count": 50,
   "metadata": {},
   "outputs": [],
   "source": [
    "def train_model(model): \n",
    "  model.fit(X_sample2,y_sample2)\n",
    "  y_pred3 = model.predict(X_test)\n",
    "  print(classification_report(y_pred3,y_test))\n",
    "  return model"
   ]
  },
  {
   "cell_type": "code",
   "execution_count": 51,
   "metadata": {},
   "outputs": [],
   "source": [
    "from sklearn.tree import DecisionTreeClassifier\n",
    "dt = DecisionTreeClassifier()"
   ]
  },
  {
   "cell_type": "code",
   "execution_count": 52,
   "metadata": {},
   "outputs": [
    {
     "name": "stdout",
     "output_type": "stream",
     "text": [
      "              precision    recall  f1-score   support\n",
      "\n",
      "         0.0       0.98      0.99      0.99     14900\n",
      "         1.0       0.09      0.07      0.08       266\n",
      "\n",
      "    accuracy                           0.97     15166\n",
      "   macro avg       0.54      0.53      0.53     15166\n",
      "weighted avg       0.97      0.97      0.97     15166\n",
      "\n"
     ]
    }
   ],
   "source": [
    "model=train_model(dt)"
   ]
  },
  {
   "cell_type": "code",
   "execution_count": 53,
   "metadata": {},
   "outputs": [],
   "source": [
    "dt2 = DecisionTreeClassifier(criterion=\"entropy\")"
   ]
  },
  {
   "cell_type": "code",
   "execution_count": 54,
   "metadata": {},
   "outputs": [
    {
     "name": "stdout",
     "output_type": "stream",
     "text": [
      "              precision    recall  f1-score   support\n",
      "\n",
      "         0.0       0.98      0.99      0.99     14915\n",
      "         1.0       0.04      0.04      0.04       251\n",
      "\n",
      "    accuracy                           0.97     15166\n",
      "   macro avg       0.51      0.51      0.51     15166\n",
      "weighted avg       0.97      0.97      0.97     15166\n",
      "\n"
     ]
    }
   ],
   "source": [
    "model2 = train_model(dt2)\n",
    "#f1 score same as defult gimi index"
   ]
  },
  {
   "cell_type": "code",
   "execution_count": 55,
   "metadata": {},
   "outputs": [
    {
     "data": {
      "text/plain": [
       "42"
      ]
     },
     "execution_count": 55,
     "metadata": {},
     "output_type": "execute_result"
    }
   ],
   "source": [
    "#to know the depth\n",
    "model.get_depth()"
   ]
  },
  {
   "cell_type": "code",
   "execution_count": 56,
   "metadata": {},
   "outputs": [
    {
     "data": {
      "text/plain": [
       "41"
      ]
     },
     "execution_count": 56,
     "metadata": {},
     "output_type": "execute_result"
    }
   ],
   "source": [
    "model2.get_depth()"
   ]
  },
  {
   "cell_type": "code",
   "execution_count": 57,
   "metadata": {},
   "outputs": [
    {
     "name": "stdout",
     "output_type": "stream",
     "text": [
      "              precision    recall  f1-score   support\n",
      "\n",
      "         0.0       0.98      0.99      0.98     14861\n",
      "         1.0       0.09      0.06      0.07       305\n",
      "\n",
      "    accuracy                           0.97     15166\n",
      "   macro avg       0.53      0.52      0.53     15166\n",
      "weighted avg       0.96      0.97      0.97     15166\n",
      "\n"
     ]
    }
   ],
   "source": [
    "# Pruning\n",
    "dt3 = DecisionTreeClassifier(max_depth=30)\n",
    "model3 = train_model(dt3)"
   ]
  },
  {
   "cell_type": "code",
   "execution_count": 58,
   "metadata": {},
   "outputs": [
    {
     "name": "stdout",
     "output_type": "stream",
     "text": [
      "              precision    recall  f1-score   support\n",
      "\n",
      "         0.0       0.94      0.99      0.96     14261\n",
      "         1.0       0.20      0.05      0.08       905\n",
      "\n",
      "    accuracy                           0.93     15166\n",
      "   macro avg       0.57      0.52      0.52     15166\n",
      "weighted avg       0.90      0.93      0.91     15166\n",
      "\n"
     ]
    }
   ],
   "source": [
    "#mean sample leaf\n",
    "dt4 = DecisionTreeClassifier(min_samples_leaf=10)\n",
    "model4 = train_model(dt4)"
   ]
  },
  {
   "cell_type": "code",
   "execution_count": 59,
   "metadata": {},
   "outputs": [
    {
     "name": "stdout",
     "output_type": "stream",
     "text": [
      "              precision    recall  f1-score   support\n",
      "\n",
      "         0.0       0.94      0.99      0.96     14254\n",
      "         1.0       0.21      0.05      0.08       912\n",
      "\n",
      "    accuracy                           0.93     15166\n",
      "   macro avg       0.58      0.52      0.52     15166\n",
      "weighted avg       0.90      0.93      0.91     15166\n",
      "\n"
     ]
    }
   ],
   "source": [
    "#combine score\n",
    "dt5 = DecisionTreeClassifier(max_depth=30,min_samples_leaf=10)\n",
    "model5 = train_model(dt5)"
   ]
  },
  {
   "cell_type": "code",
   "execution_count": 60,
   "metadata": {},
   "outputs": [],
   "source": [
    "#randomForest\n",
    "from sklearn.ensemble import RandomForestClassifier"
   ]
  },
  {
   "cell_type": "code",
   "execution_count": 61,
   "metadata": {},
   "outputs": [
    {
     "data": {
      "text/plain": [
       "RandomForestClassifier(max_depth=26, max_features=8, n_estimators=70,\n",
       "                       random_state=1)"
      ]
     },
     "execution_count": 61,
     "metadata": {},
     "output_type": "execute_result"
    }
   ],
   "source": [
    "rf = RandomForestClassifier(n_estimators=70,random_state=1,max_features=8,max_depth=26)\n",
    "rf.fit(X_sample2, y_sample2)"
   ]
  },
  {
   "cell_type": "code",
   "execution_count": 62,
   "metadata": {},
   "outputs": [
    {
     "name": "stdout",
     "output_type": "stream",
     "text": [
      "              precision    recall  f1-score   support\n",
      "\n",
      "         0.0       0.98      0.99      0.98     14844\n",
      "         1.0       0.13      0.08      0.10       322\n",
      "\n",
      "    accuracy                           0.97     15166\n",
      "   macro avg       0.55      0.53      0.54     15166\n",
      "weighted avg       0.96      0.97      0.97     15166\n",
      "\n"
     ]
    }
   ],
   "source": [
    "y_pred3 = rf.predict(X_test)\n",
    "print(classification_report(y_pred3,y_test))"
   ]
  },
  {
   "cell_type": "code",
   "execution_count": 63,
   "metadata": {},
   "outputs": [
    {
     "data": {
      "text/plain": [
       "<AxesSubplot:>"
      ]
     },
     "execution_count": 63,
     "metadata": {},
     "output_type": "execute_result"
    },
    {
     "data": {
      "image/png": "[encoded data removed]",
      "text/plain": [
       "<Figure size 432x288 with 2 Axes>"
      ]
     },
     "metadata": {
      "needs_background": "light"
     },
     "output_type": "display_data"
    }
   ],
   "source": [
    "from sklearn.metrics import  confusion_matrix\n",
    "mat = confusion_matrix(y_test,y_pred3)\n",
    "sns.heatmap(mat,square=True,fmt=\"d\",annot=True)"
   ]
  },
  {
   "cell_type": "code",
   "execution_count": 64,
   "metadata": {},
   "outputs": [],
   "source": [
    "# adaboost\n",
    "from sklearn.ensemble import AdaBoostClassifier"
   ]
  },
  {
   "cell_type": "code",
   "execution_count": 65,
   "metadata": {},
   "outputs": [],
   "source": [
    "ada=AdaBoostClassifier(n_estimators=50)"
   ]
  },
  {
   "cell_type": "code",
   "execution_count": 66,
   "metadata": {},
   "outputs": [
    {
     "data": {
      "text/plain": [
       "AdaBoostClassifier()"
      ]
     },
     "execution_count": 66,
     "metadata": {},
     "output_type": "execute_result"
    }
   ],
   "source": [
    "ada.fit(X_sample2,y_sample2)"
   ]
  },
  {
   "cell_type": "code",
   "execution_count": 67,
   "metadata": {},
   "outputs": [
    {
     "name": "stdout",
     "output_type": "stream",
     "text": [
      "              precision    recall  f1-score   support\n",
      "\n",
      "         0.0       0.99      0.80      0.89     14961\n",
      "         1.0       0.04      0.65      0.08       205\n",
      "\n",
      "    accuracy                           0.80     15166\n",
      "   macro avg       0.52      0.73      0.48     15166\n",
      "weighted avg       0.98      0.80      0.88     15166\n",
      "\n"
     ]
    }
   ],
   "source": [
    "y_pred3 = ada.predict(X_test)\n",
    "print(classification_report(y_test,y_pred3))"
   ]
  },
  {
   "cell_type": "code",
   "execution_count": 68,
   "metadata": {},
   "outputs": [],
   "source": [
    "# gradient boost\n",
    "from sklearn.ensemble import GradientBoostingClassifier\n"
   ]
  },
  {
   "cell_type": "code",
   "execution_count": 69,
   "metadata": {},
   "outputs": [],
   "source": [
    "gb = GradientBoostingClassifier(n_estimators=100, learning_rate=0.5)\n"
   ]
  },
  {
   "cell_type": "code",
   "execution_count": 70,
   "metadata": {},
   "outputs": [
    {
     "data": {
      "text/plain": [
       "GradientBoostingClassifier(learning_rate=0.5)"
      ]
     },
     "execution_count": 70,
     "metadata": {},
     "output_type": "execute_result"
    }
   ],
   "source": [
    "gb.fit(X_sample2,y_sample2)\n"
   ]
  },
  {
   "cell_type": "code",
   "execution_count": 71,
   "metadata": {},
   "outputs": [],
   "source": [
    "y_pred3 = gb.predict(X_test)"
   ]
  },
  {
   "cell_type": "code",
   "execution_count": 72,
   "metadata": {},
   "outputs": [
    {
     "name": "stdout",
     "output_type": "stream",
     "text": [
      "              precision    recall  f1-score   support\n",
      "\n",
      "         0.0       0.99      0.86      0.92     14961\n",
      "         1.0       0.05      0.51      0.09       205\n",
      "\n",
      "    accuracy                           0.85     15166\n",
      "   macro avg       0.52      0.69      0.50     15166\n",
      "weighted avg       0.98      0.85      0.91     15166\n",
      "\n"
     ]
    }
   ],
   "source": [
    "print(classification_report(y_test,y_pred3))"
   ]
  },
  {
   "cell_type": "code",
   "execution_count": 73,
   "metadata": {},
   "outputs": [
    {
     "name": "stdout",
     "output_type": "stream",
     "text": [
      "Requirement already satisfied: xgboost in c:\\users\\mayur\\anaconda3\\lib\\site-packages (1.4.2)\n",
      "Requirement already satisfied: scipy in c:\\users\\mayur\\anaconda3\\lib\\site-packages (from xgboost) (1.5.2)\n",
      "Requirement already satisfied: numpy in c:\\users\\mayur\\anaconda3\\lib\\site-packages (from xgboost) (1.19.2)\n"
     ]
    }
   ],
   "source": [
    "! pip install xgboost\n",
    "from xgboost import XGBClassifier"
   ]
  },
  {
   "cell_type": "code",
   "execution_count": 74,
   "metadata": {},
   "outputs": [],
   "source": [
    "xg=XGBClassifier(n_estimators=150)"
   ]
  },
  {
   "cell_type": "code",
   "execution_count": 75,
   "metadata": {},
   "outputs": [
    {
     "name": "stdout",
     "output_type": "stream",
     "text": [
      "[16:51:06] WARNING: C:/Users/Administrator/workspace/xgboost-win64_release_1.4.0/src/learner.cc:1095: Starting in XGBoost 1.3.0, the default evaluation metric used with the objective 'binary:logistic' was changed from 'error' to 'logloss'. Explicitly set eval_metric if you'd like to restore the old behavior.\n"
     ]
    },
    {
     "data": {
      "text/plain": [
       "XGBClassifier(base_score=0.5, booster='gbtree', colsample_bylevel=1,\n",
       "              colsample_bynode=1, colsample_bytree=1, gamma=0, gpu_id=-1,\n",
       "              importance_type='gain', interaction_constraints='',\n",
       "              learning_rate=0.300000012, max_delta_step=0, max_depth=6,\n",
       "              min_child_weight=1, missing=nan, monotone_constraints='()',\n",
       "              n_estimators=150, n_jobs=4, num_parallel_tree=1, random_state=0,\n",
       "              reg_alpha=0, reg_lambda=1, scale_pos_weight=1, subsample=1,\n",
       "              tree_method='exact', validate_parameters=1, verbosity=None)"
      ]
     },
     "execution_count": 75,
     "metadata": {},
     "output_type": "execute_result"
    }
   ],
   "source": [
    "xg.fit(X_sample2,y_sample2)"
   ]
  },
  {
   "cell_type": "code",
   "execution_count": 76,
   "metadata": {},
   "outputs": [
    {
     "name": "stdout",
     "output_type": "stream",
     "text": [
      "              precision    recall  f1-score   support\n",
      "\n",
      "         0.0       0.99      0.95      0.97     14961\n",
      "         1.0       0.06      0.24      0.10       205\n",
      "\n",
      "    accuracy                           0.94     15166\n",
      "   macro avg       0.52      0.60      0.53     15166\n",
      "weighted avg       0.98      0.94      0.96     15166\n",
      "\n"
     ]
    }
   ],
   "source": [
    "y_pred3 =xg.predict(X_test)\n",
    "print(classification_report(y_test,y_pred3))"
   ]
  },
  {
   "cell_type": "code",
   "execution_count": 77,
   "metadata": {},
   "outputs": [],
   "source": [
    "# Linear SVM(svc=support vector classification)\n",
    "from sklearn.svm import LinearSVC"
   ]
  },
  {
   "cell_type": "code",
   "execution_count": 78,
   "metadata": {},
   "outputs": [
    {
     "data": {
      "text/plain": [
       "LinearSVC(random_state=1)"
      ]
     },
     "execution_count": 78,
     "metadata": {},
     "output_type": "execute_result"
    }
   ],
   "source": [
    "lin = LinearSVC(random_state=1)\n",
    "lin.fit(X_sample2,y_sample2)"
   ]
  },
  {
   "cell_type": "code",
   "execution_count": 79,
   "metadata": {},
   "outputs": [
    {
     "name": "stdout",
     "output_type": "stream",
     "text": [
      "              precision    recall  f1-score   support\n",
      "\n",
      "         0.0       0.99      0.95      0.97     14961\n",
      "         1.0       0.08      0.32      0.13       205\n",
      "\n",
      "    accuracy                           0.94     15166\n",
      "   macro avg       0.53      0.63      0.55     15166\n",
      "weighted avg       0.98      0.94      0.96     15166\n",
      "\n"
     ]
    }
   ],
   "source": [
    "y_pred3 = lin.predict(X_test)\n",
    "print(classification_report(y_test,y_pred3))"
   ]
  },
  {
   "cell_type": "code",
   "execution_count": 80,
   "metadata": {},
   "outputs": [],
   "source": [
    "# soft margin#value of C can be 0.1 to 1. 1value means no regularisation.if accracy value remain same after changing C value means there is no outliers present in data\n",
    "lin = LinearSVC(C=0.5,random_state=1)"
   ]
  },
  {
   "cell_type": "code",
   "execution_count": 81,
   "metadata": {},
   "outputs": [
    {
     "data": {
      "text/plain": [
       "LinearSVC(C=0.5, random_state=1)"
      ]
     },
     "execution_count": 81,
     "metadata": {},
     "output_type": "execute_result"
    }
   ],
   "source": [
    "lin.fit(X_sample2,y_sample2)"
   ]
  },
  {
   "cell_type": "code",
   "execution_count": 82,
   "metadata": {},
   "outputs": [
    {
     "name": "stdout",
     "output_type": "stream",
     "text": [
      "              precision    recall  f1-score   support\n",
      "\n",
      "         0.0       0.99      0.81      0.89     14961\n",
      "         1.0       0.04      0.64      0.08       205\n",
      "\n",
      "    accuracy                           0.80     15166\n",
      "   macro avg       0.52      0.72      0.49     15166\n",
      "weighted avg       0.98      0.80      0.88     15166\n",
      "\n"
     ]
    }
   ],
   "source": [
    "y_pred = lin.predict(X_test)\n",
    "print(classification_report(y_test,y_pred))"
   ]
  },
  {
   "cell_type": "code",
   "execution_count": 83,
   "metadata": {},
   "outputs": [],
   "source": [
    "# radial bias\n",
    "from sklearn.svm import SVC\n",
    "svc = SVC(random_state=1,kernel=\"rbf\")"
   ]
  },
  {
   "cell_type": "code",
   "execution_count": 84,
   "metadata": {},
   "outputs": [
    {
     "data": {
      "text/plain": [
       "SVC(random_state=1)"
      ]
     },
     "execution_count": 84,
     "metadata": {},
     "output_type": "execute_result"
    }
   ],
   "source": [
    "svc.fit(X_sample2,y_sample2)"
   ]
  },
  {
   "cell_type": "code",
   "execution_count": 85,
   "metadata": {},
   "outputs": [
    {
     "name": "stdout",
     "output_type": "stream",
     "text": [
      "              precision    recall  f1-score   support\n",
      "\n",
      "         0.0       0.99      0.87      0.93     14961\n",
      "         1.0       0.06      0.56      0.10       205\n",
      "\n",
      "    accuracy                           0.87     15166\n",
      "   macro avg       0.52      0.72      0.51     15166\n",
      "weighted avg       0.98      0.87      0.92     15166\n",
      "\n"
     ]
    }
   ],
   "source": [
    "y_pred = svc.predict(X_test)\n",
    "print(classification_report(y_test,y_pred))"
   ]
  },
  {
   "cell_type": "code",
   "execution_count": 86,
   "metadata": {},
   "outputs": [
    {
     "data": {
      "text/html": [
       "<div>\n",
       "<style scoped>\n",
       "    .dataframe tbody tr th:only-of-type {\n",
       "        vertical-align: middle;\n",
       "    }\n",
       "\n",
       "    .dataframe tbody tr th {\n",
       "        vertical-align: top;\n",
       "    }\n",
       "\n",
       "    .dataframe thead th {\n",
       "        text-align: right;\n",
       "    }\n",
       "</style>\n",
       "<table border=\"1\" class=\"dataframe\">\n",
       "  <thead>\n",
       "    <tr style=\"text-align: right;\">\n",
       "      <th></th>\n",
       "      <th>Claim</th>\n",
       "      <th>Duration</th>\n",
       "      <th>Net Sales</th>\n",
       "      <th>Commision (in value)</th>\n",
       "      <th>Age</th>\n",
       "      <th>Agency</th>\n",
       "      <th>Agency Type</th>\n",
       "      <th>Distribution Channel</th>\n",
       "      <th>Product Name</th>\n",
       "      <th>Destination</th>\n",
       "    </tr>\n",
       "  </thead>\n",
       "  <tbody>\n",
       "    <tr>\n",
       "      <th>0</th>\n",
       "      <td>0.0</td>\n",
       "      <td>0.001230</td>\n",
       "      <td>0.324437</td>\n",
       "      <td>0.062857</td>\n",
       "      <td>0.352273</td>\n",
       "      <td>6</td>\n",
       "      <td>1</td>\n",
       "      <td>1</td>\n",
       "      <td>16</td>\n",
       "      <td>56</td>\n",
       "    </tr>\n",
       "    <tr>\n",
       "      <th>1</th>\n",
       "      <td>0.0</td>\n",
       "      <td>0.017213</td>\n",
       "      <td>0.381985</td>\n",
       "      <td>0.000000</td>\n",
       "      <td>0.409091</td>\n",
       "      <td>7</td>\n",
       "      <td>1</td>\n",
       "      <td>1</td>\n",
       "      <td>10</td>\n",
       "      <td>79</td>\n",
       "    </tr>\n",
       "    <tr>\n",
       "      <th>2</th>\n",
       "      <td>0.0</td>\n",
       "      <td>0.002049</td>\n",
       "      <td>0.340951</td>\n",
       "      <td>0.041905</td>\n",
       "      <td>0.852273</td>\n",
       "      <td>6</td>\n",
       "      <td>1</td>\n",
       "      <td>1</td>\n",
       "      <td>16</td>\n",
       "      <td>56</td>\n",
       "    </tr>\n",
       "    <tr>\n",
       "      <th>3</th>\n",
       "      <td>0.0</td>\n",
       "      <td>0.003074</td>\n",
       "      <td>0.341118</td>\n",
       "      <td>0.000000</td>\n",
       "      <td>0.363636</td>\n",
       "      <td>7</td>\n",
       "      <td>1</td>\n",
       "      <td>1</td>\n",
       "      <td>1</td>\n",
       "      <td>38</td>\n",
       "    </tr>\n",
       "    <tr>\n",
       "      <th>4</th>\n",
       "      <td>0.0</td>\n",
       "      <td>0.001844</td>\n",
       "      <td>0.336947</td>\n",
       "      <td>0.000000</td>\n",
       "      <td>0.329545</td>\n",
       "      <td>7</td>\n",
       "      <td>1</td>\n",
       "      <td>1</td>\n",
       "      <td>10</td>\n",
       "      <td>47</td>\n",
       "    </tr>\n",
       "    <tr>\n",
       "      <th>...</th>\n",
       "      <td>...</td>\n",
       "      <td>...</td>\n",
       "      <td>...</td>\n",
       "      <td>...</td>\n",
       "      <td>...</td>\n",
       "      <td>...</td>\n",
       "      <td>...</td>\n",
       "      <td>...</td>\n",
       "      <td>...</td>\n",
       "      <td>...</td>\n",
       "    </tr>\n",
       "    <tr>\n",
       "      <th>50548</th>\n",
       "      <td>0.0</td>\n",
       "      <td>0.002049</td>\n",
       "      <td>0.407006</td>\n",
       "      <td>0.209524</td>\n",
       "      <td>0.568182</td>\n",
       "      <td>6</td>\n",
       "      <td>1</td>\n",
       "      <td>1</td>\n",
       "      <td>16</td>\n",
       "      <td>65</td>\n",
       "    </tr>\n",
       "    <tr>\n",
       "      <th>50549</th>\n",
       "      <td>0.0</td>\n",
       "      <td>0.009631</td>\n",
       "      <td>0.341118</td>\n",
       "      <td>0.000000</td>\n",
       "      <td>0.409091</td>\n",
       "      <td>7</td>\n",
       "      <td>1</td>\n",
       "      <td>1</td>\n",
       "      <td>0</td>\n",
       "      <td>38</td>\n",
       "    </tr>\n",
       "    <tr>\n",
       "      <th>50550</th>\n",
       "      <td>0.0</td>\n",
       "      <td>0.004713</td>\n",
       "      <td>0.347790</td>\n",
       "      <td>0.037531</td>\n",
       "      <td>0.545455</td>\n",
       "      <td>10</td>\n",
       "      <td>1</td>\n",
       "      <td>1</td>\n",
       "      <td>24</td>\n",
       "      <td>38</td>\n",
       "    </tr>\n",
       "    <tr>\n",
       "      <th>50551</th>\n",
       "      <td>0.0</td>\n",
       "      <td>0.004918</td>\n",
       "      <td>0.336947</td>\n",
       "      <td>0.000000</td>\n",
       "      <td>0.409091</td>\n",
       "      <td>7</td>\n",
       "      <td>1</td>\n",
       "      <td>1</td>\n",
       "      <td>10</td>\n",
       "      <td>7</td>\n",
       "    </tr>\n",
       "    <tr>\n",
       "      <th>50552</th>\n",
       "      <td>0.0</td>\n",
       "      <td>0.001639</td>\n",
       "      <td>0.341118</td>\n",
       "      <td>0.000000</td>\n",
       "      <td>0.670455</td>\n",
       "      <td>7</td>\n",
       "      <td>1</td>\n",
       "      <td>1</td>\n",
       "      <td>0</td>\n",
       "      <td>79</td>\n",
       "    </tr>\n",
       "  </tbody>\n",
       "</table>\n",
       "<p>50553 rows × 10 columns</p>\n",
       "</div>"
      ],
      "text/plain": [
       "       Claim  Duration  Net Sales  Commision (in value)       Age  Agency  \\\n",
       "0        0.0  0.001230   0.324437              0.062857  0.352273       6   \n",
       "1        0.0  0.017213   0.381985              0.000000  0.409091       7   \n",
       "2        0.0  0.002049   0.340951              0.041905  0.852273       6   \n",
       "3        0.0  0.003074   0.341118              0.000000  0.363636       7   \n",
       "4        0.0  0.001844   0.336947              0.000000  0.329545       7   \n",
       "...      ...       ...        ...                   ...       ...     ...   \n",
       "50548    0.0  0.002049   0.407006              0.209524  0.568182       6   \n",
       "50549    0.0  0.009631   0.341118              0.000000  0.409091       7   \n",
       "50550    0.0  0.004713   0.347790              0.037531  0.545455      10   \n",
       "50551    0.0  0.004918   0.336947              0.000000  0.409091       7   \n",
       "50552    0.0  0.001639   0.341118              0.000000  0.670455       7   \n",
       "\n",
       "       Agency Type  Distribution Channel  Product Name  Destination  \n",
       "0                1                     1            16           56  \n",
       "1                1                     1            10           79  \n",
       "2                1                     1            16           56  \n",
       "3                1                     1             1           38  \n",
       "4                1                     1            10           47  \n",
       "...            ...                   ...           ...          ...  \n",
       "50548            1                     1            16           65  \n",
       "50549            1                     1             0           38  \n",
       "50550            1                     1            24           38  \n",
       "50551            1                     1            10            7  \n",
       "50552            1                     1             0           79  \n",
       "\n",
       "[50553 rows x 10 columns]"
      ]
     },
     "execution_count": 86,
     "metadata": {},
     "output_type": "execute_result"
    }
   ],
   "source": [
    "df_clean"
   ]
  },
  {
   "cell_type": "code",
   "execution_count": 87,
   "metadata": {},
   "outputs": [
    {
     "data": {
      "text/html": [
       "<div>\n",
       "<style scoped>\n",
       "    .dataframe tbody tr th:only-of-type {\n",
       "        vertical-align: middle;\n",
       "    }\n",
       "\n",
       "    .dataframe tbody tr th {\n",
       "        vertical-align: top;\n",
       "    }\n",
       "\n",
       "    .dataframe thead th {\n",
       "        text-align: right;\n",
       "    }\n",
       "</style>\n",
       "<table border=\"1\" class=\"dataframe\">\n",
       "  <thead>\n",
       "    <tr style=\"text-align: right;\">\n",
       "      <th></th>\n",
       "      <th>Claim</th>\n",
       "      <th>Duration</th>\n",
       "      <th>Net Sales</th>\n",
       "      <th>Commision (in value)</th>\n",
       "      <th>Age</th>\n",
       "    </tr>\n",
       "  </thead>\n",
       "  <tbody>\n",
       "    <tr>\n",
       "      <th>Claim</th>\n",
       "      <td>1.000000</td>\n",
       "      <td>0.076411</td>\n",
       "      <td>0.138328</td>\n",
       "      <td>0.102012</td>\n",
       "      <td>-0.013635</td>\n",
       "    </tr>\n",
       "    <tr>\n",
       "      <th>Duration</th>\n",
       "      <td>0.076411</td>\n",
       "      <td>1.000000</td>\n",
       "      <td>0.436961</td>\n",
       "      <td>0.349222</td>\n",
       "      <td>0.028108</td>\n",
       "    </tr>\n",
       "    <tr>\n",
       "      <th>Net Sales</th>\n",
       "      <td>0.138328</td>\n",
       "      <td>0.436961</td>\n",
       "      <td>1.000000</td>\n",
       "      <td>0.657861</td>\n",
       "      <td>0.029499</td>\n",
       "    </tr>\n",
       "    <tr>\n",
       "      <th>Commision (in value)</th>\n",
       "      <td>0.102012</td>\n",
       "      <td>0.349222</td>\n",
       "      <td>0.657861</td>\n",
       "      <td>1.000000</td>\n",
       "      <td>0.107632</td>\n",
       "    </tr>\n",
       "    <tr>\n",
       "      <th>Age</th>\n",
       "      <td>-0.013635</td>\n",
       "      <td>0.028108</td>\n",
       "      <td>0.029499</td>\n",
       "      <td>0.107632</td>\n",
       "      <td>1.000000</td>\n",
       "    </tr>\n",
       "  </tbody>\n",
       "</table>\n",
       "</div>"
      ],
      "text/plain": [
       "                         Claim  Duration  Net Sales  Commision (in value)  \\\n",
       "Claim                 1.000000  0.076411   0.138328              0.102012   \n",
       "Duration              0.076411  1.000000   0.436961              0.349222   \n",
       "Net Sales             0.138328  0.436961   1.000000              0.657861   \n",
       "Commision (in value)  0.102012  0.349222   0.657861              1.000000   \n",
       "Age                  -0.013635  0.028108   0.029499              0.107632   \n",
       "\n",
       "                           Age  \n",
       "Claim                -0.013635  \n",
       "Duration              0.028108  \n",
       "Net Sales             0.029499  \n",
       "Commision (in value)  0.107632  \n",
       "Age                   1.000000  "
      ]
     },
     "execution_count": 87,
     "metadata": {},
     "output_type": "execute_result"
    }
   ],
   "source": [
    "df.corr()"
   ]
  },
  {
   "cell_type": "code",
   "execution_count": 88,
   "metadata": {},
   "outputs": [],
   "source": [
    "from sklearn.feature_selection import chi2 # chi2\n",
    "from sklearn.feature_selection import f_regression # anova\n",
    "from sklearn.feature_selection import SelectKBest"
   ]
  },
  {
   "cell_type": "code",
   "execution_count": 89,
   "metadata": {},
   "outputs": [],
   "source": [
    " # anova\n",
    "anova = SelectKBest(score_func=f_regression,k=6)\n",
    "X_train_anova = anova.fit_transform(X_sample2,y_sample2)\n",
    "X_test_anova = anova.transform(X_test)"
   ]
  },
  {
   "cell_type": "code",
   "execution_count": 90,
   "metadata": {},
   "outputs": [],
   "source": [
    "model2= LogisticRegression()"
   ]
  },
  {
   "cell_type": "code",
   "execution_count": 91,
   "metadata": {},
   "outputs": [
    {
     "data": {
      "text/plain": [
       "DecisionTreeClassifier()"
      ]
     },
     "execution_count": 91,
     "metadata": {},
     "output_type": "execute_result"
    }
   ],
   "source": [
    "model.fit(X_sample2,y_sample2)"
   ]
  },
  {
   "cell_type": "code",
   "execution_count": 92,
   "metadata": {},
   "outputs": [],
   "source": [
    "y_pred = model.predict(X_test)"
   ]
  },
  {
   "cell_type": "code",
   "execution_count": 93,
   "metadata": {},
   "outputs": [
    {
     "name": "stdout",
     "output_type": "stream",
     "text": [
      "              precision    recall  f1-score   support\n",
      "\n",
      "         0.0       0.99      0.98      0.98     14961\n",
      "         1.0       0.06      0.08      0.07       205\n",
      "\n",
      "    accuracy                           0.97     15166\n",
      "   macro avg       0.52      0.53      0.53     15166\n",
      "weighted avg       0.97      0.97      0.97     15166\n",
      "\n"
     ]
    }
   ],
   "source": [
    "print(classification_report(y_test,y_pred))"
   ]
  },
  {
   "cell_type": "code",
   "execution_count": 94,
   "metadata": {},
   "outputs": [
    {
     "name": "stdout",
     "output_type": "stream",
     "text": [
      "col:  Duration r2 score:  0.9864829223262561\n",
      "col:  Net Sales r2 score:  0.986416985361994\n",
      "col:  Commision (in value) r2 score:  0.986416985361994\n",
      "col:  Age r2 score:  0.986416985361994\n",
      "col:  Agency r2 score:  0.9864829223262561\n",
      "col:  Agency Type r2 score:  0.9864829223262561\n",
      "col:  Distribution Channel r2 score:  0.9864829223262561\n",
      "col:  Product Name r2 score:  0.9864829223262561\n",
      "col:  Destination r2 score:  0.9864829223262561\n"
     ]
    }
   ],
   "source": [
    "columns = []\n",
    "\n",
    "for col in X:\n",
    "    columns.append(col)\n",
    "  \n",
    "    X_new = df_clean[columns]\n",
    "    \n",
    "    X_train,X_test,y_train,y_test = train_test_split(X_new,y,test_size=0.3,random_state=1)\n",
    "    \n",
    "    lin = LogisticRegression()\n",
    "    \n",
    "    lin.fit(X_train,y_train)\n",
    "    \n",
    "    r2 = lin.score(X_test,y_test)\n",
    "        \n",
    "    print(\"col: \",col,\"r2 score: \",r2)"
   ]
  },
  {
   "cell_type": "code",
   "execution_count": 95,
   "metadata": {},
   "outputs": [],
   "source": [
    "from sklearn.linear_model import Lasso\n",
    "from sklearn.linear_model import Ridge"
   ]
  },
  {
   "cell_type": "code",
   "execution_count": 96,
   "metadata": {},
   "outputs": [
    {
     "name": "stdout",
     "output_type": "stream",
     "text": [
      "0 : 0.2588471655686625\n",
      "0 : -11.619858156278532\n",
      "--------------------------\n",
      "1 : 0.2588457343941488\n",
      "1 : -11.621127032764582\n",
      "--------------------------\n",
      "2 : 0.2588419026713965\n",
      "2 : -11.622443981953483\n",
      "--------------------------\n",
      "3 : 0.25883623171609627\n",
      "3 : -11.623795293471778\n",
      "--------------------------\n",
      "4 : 0.25882914599919105\n",
      "4 : -11.625170475622534\n",
      "--------------------------\n",
      "5 : 0.25882096920491726\n",
      "5 : -11.626561445973344\n",
      "--------------------------\n",
      "6 : 0.2588119499658379\n",
      "6 : -11.6279619450523\n",
      "--------------------------\n",
      "7 : 0.25880228046722475\n",
      "7 : -11.62936710613241\n",
      "--------------------------\n",
      "8 : 0.2587921100548608\n",
      "8 : -11.630773135811769\n",
      "--------------------------\n",
      "9 : 0.25878155529538627\n",
      "9 : -11.632177074291786\n",
      "--------------------------\n",
      "10 : 0.25877070748747766\n",
      "10 : -11.633576613688222\n",
      "--------------------------\n",
      "11 : 0.2587596383207318\n",
      "11 : -11.634969959077713\n",
      "--------------------------\n",
      "12 : 0.25874840417472345\n",
      "12 : -11.636355721343886\n",
      "--------------------------\n",
      "13 : 0.2587370494102209\n",
      "13 : -11.637732833914363\n",
      "--------------------------\n",
      "14 : 0.25872560890679597\n",
      "14 : -11.639100487608056\n",
      "--------------------------\n",
      "15 : 0.2587141100322836\n",
      "15 : -11.64045807932523\n",
      "--------------------------\n",
      "16 : 0.2587025741806078\n",
      "16 : -11.641805171400373\n",
      "--------------------------\n",
      "17 : 0.25869101797933247\n",
      "17 : -11.643141459227788\n",
      "--------------------------\n",
      "18 : 0.2586794542428015\n",
      "18 : -11.64446674534879\n",
      "--------------------------\n",
      "19 : 0.25866789272807533\n",
      "19 : -11.645780918617357\n",
      "--------------------------\n",
      "20 : 0.2586563407371094\n",
      "20 : -11.647083937381003\n",
      "--------------------------\n",
      "21 : 0.25864480359838804\n",
      "21 : -11.648375815852996\n",
      "--------------------------\n",
      "22 : 0.2586332850535704\n",
      "22 : -11.649656613034589\n",
      "--------------------------\n",
      "23 : 0.2586217875689174\n",
      "23 : -11.650926423684203\n",
      "--------------------------\n",
      "24 : 0.2586103125868908\n",
      "24 : -11.652185370937088\n",
      "--------------------------\n",
      "25 : 0.2585988607299642\n",
      "25 : -11.653433600261351\n",
      "--------------------------\n",
      "26 : 0.25858743196610723\n",
      "26 : -11.654671274500071\n",
      "--------------------------\n",
      "27 : 0.25857602574342076\n",
      "27 : -11.655898569799344\n",
      "--------------------------\n",
      "28 : 0.258564641099857\n",
      "28 : -11.657115672261204\n",
      "--------------------------\n",
      "29 : 0.25855327675274653\n",
      "29 : -11.658322775191674\n",
      "--------------------------\n",
      "30 : 0.25854193117192015\n",
      "30 : -11.659520076838469\n",
      "--------------------------\n",
      "31 : 0.25853060263945427\n",
      "31 : -11.660707778532865\n",
      "--------------------------\n",
      "32 : 0.2585192892984942\n",
      "32 : -11.661886083165786\n",
      "--------------------------\n",
      "33 : 0.25850798919312834\n",
      "33 : -11.663055193940775\n",
      "--------------------------\n",
      "34 : 0.2584967003009214\n",
      "34 : -11.66421531335689\n",
      "--------------------------\n",
      "35 : 0.2584854205594126\n",
      "35 : -11.665366642382738\n",
      "--------------------------\n",
      "36 : 0.258474147887642\n",
      "36 : -11.666509379789572\n",
      "--------------------------\n",
      "37 : 0.2584628802035809\n",
      "37 : -11.667643721616956\n",
      "--------------------------\n",
      "38 : 0.2584516154381761\n",
      "38 : -11.668769860748952\n",
      "--------------------------\n",
      "39 : 0.2584403515466014\n",
      "39 : -11.669887986582426\n",
      "--------------------------\n",
      "40 : 0.258429086517197\n",
      "40 : -11.670998284772292\n",
      "--------------------------\n",
      "41 : 0.25841781837849676\n",
      "41 : -11.672100937040806\n",
      "--------------------------\n",
      "42 : 0.25840654520467643\n",
      "42 : -11.67319612104025\n",
      "--------------------------\n",
      "43 : 0.25839526511969557\n",
      "43 : -11.674284010260067\n",
      "--------------------------\n",
      "44 : 0.25838397630035825\n",
      "44 : -11.675364773970825\n",
      "--------------------------\n",
      "45 : 0.25837267697848587\n",
      "45 : -11.67643857719887\n",
      "--------------------------\n",
      "46 : 0.2583613654423561\n",
      "46 : -11.677505580726011\n",
      "--------------------------\n",
      "47 : 0.2583500400375397\n",
      "47 : -11.67856594111024\n",
      "--------------------------\n",
      "48 : 0.2583386991672443\n",
      "48 : -11.6796198107232\n",
      "--------------------------\n",
      "49 : 0.25832734129225643\n",
      "49 : -11.680667337801538\n",
      "--------------------------\n"
     ]
    }
   ],
   "source": [
    "for i in range(50):\n",
    "    l2 = Ridge(i)\n",
    "    l2.fit(X_sample2,y_sample2)\n",
    "    print(i,\":\",l2.score(X_sample2,y_sample2))\n",
    "    print(i,\":\",l2.score(X_test,y_test))\n",
    "    print(\"--------------------------\")"
   ]
  },
  {
   "cell_type": "code",
   "execution_count": 97,
   "metadata": {},
   "outputs": [
    {
     "name": "stdout",
     "output_type": "stream",
     "text": [
      "200 : 0.0\n",
      "200 : -17.74854752437638\n",
      "--------------------------\n",
      "250 : 0.0\n",
      "250 : -17.74854752437638\n",
      "--------------------------\n",
      "300 : 0.0\n",
      "300 : -17.74854752437638\n",
      "--------------------------\n",
      "350 : 0.0\n",
      "350 : -17.74854752437638\n",
      "--------------------------\n",
      "400 : 0.0\n",
      "400 : -17.74854752437638\n",
      "--------------------------\n",
      "450 : 0.0\n",
      "450 : -17.74854752437638\n",
      "--------------------------\n"
     ]
    }
   ],
   "source": [
    "for i in range(200,500,50):\n",
    "    l1 = Lasso(i)\n",
    "    l1.fit(X_sample2,y_sample2)\n",
    "    print(i,\":\",l1.score(X_sample2,y_sample2))\n",
    "    print(i,\":\",l1.score(X_test,y_test))\n",
    "    print(\"--------------------------\")"
   ]
  },
  {
   "cell_type": "code",
   "execution_count": 98,
   "metadata": {},
   "outputs": [
    {
     "name": "stdout",
     "output_type": "stream",
     "text": [
      "0.029062603579358526\n"
     ]
    }
   ],
   "source": [
    "# Final model\n",
    "L2 = Ridge(2)\n",
    "L2.fit(X_train,y_train)\n",
    "print(L2.score(X_test,y_test))"
   ]
  },
  {
   "cell_type": "code",
   "execution_count": 99,
   "metadata": {},
   "outputs": [
    {
     "name": "stdout",
     "output_type": "stream",
     "text": [
      "-0.00019918548487574128\n"
     ]
    }
   ],
   "source": [
    "# Final model\n",
    "L1 = Lasso(200)\n",
    "L1.fit(X_train,y_train)\n",
    "print(L1.score(X_test,y_test))"
   ]
  },
  {
   "cell_type": "code",
   "execution_count": 100,
   "metadata": {},
   "outputs": [],
   "source": [
    "from sklearn.decomposition import PCA"
   ]
  },
  {
   "cell_type": "code",
   "execution_count": 101,
   "metadata": {},
   "outputs": [],
   "source": [
    "pca = PCA(n_components=3, random_state=1)"
   ]
  },
  {
   "cell_type": "code",
   "execution_count": 103,
   "metadata": {},
   "outputs": [],
   "source": [
    "pc = pca.fit_transform(df_clean)"
   ]
  },
  {
   "cell_type": "code",
   "execution_count": 104,
   "metadata": {},
   "outputs": [],
   "source": [
    "pc1 = pc[:,0]\n",
    "pc2 = pc[:,1]\n",
    "pc3 = pc[:,2]"
   ]
  },
  {
   "cell_type": "code",
   "execution_count": 105,
   "metadata": {},
   "outputs": [
    {
     "name": "stdout",
     "output_type": "stream",
     "text": [
      "[  2.06915898 -21.00698172   2.06914041 ...  20.26122639  50.97350995\n",
      " -21.17148933] [ 6.66962397  1.12334742  6.67079531 ... 14.54464483 -0.1144663\n",
      " -8.86052771] [-0.99490331  0.65294045 -0.99199318 ...  2.32761031 -0.46987895\n",
      "  1.13971001]\n"
     ]
    }
   ],
   "source": [
    "print(pc1,pc2,pc3)"
   ]
  },
  {
   "cell_type": "code",
   "execution_count": null,
   "metadata": {},
   "outputs": [],
   "source": []
  }
 ],
 "metadata": {
  "kernelspec": {
   "display_name": "Python 3",
   "language": "python",
   "name": "python3"
  },
  "language_info": {
   "codemirror_mode": {
    "name": "ipython",
    "version": 3
   },
   "file_extension": ".py",
   "mimetype": "text/x-python",
   "name": "python",
   "nbconvert_exporter": "python",
   "pygments_lexer": "ipython3",
   "version": "3.8.5"
  }
 },
 "nbformat": 4,
 "nbformat_minor": 4
}
